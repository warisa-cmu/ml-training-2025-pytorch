{
 "cells": [
  {
   "cell_type": "code",
   "execution_count": null,
   "id": "63fddc69",
   "metadata": {},
   "outputs": [],
   "source": [
    "from torch.utils.tensorboard import SummaryWriter\n",
    "import numpy as np"
   ]
  },
  {
   "cell_type": "code",
   "execution_count": null,
   "id": "1f466ef5",
   "metadata": {},
   "outputs": [],
   "source": [
    "import torchvision\n",
    "import torch\n",
    "from torch.utils.data import TensorDataset, DataLoader\n",
    "\n",
    "writer = SummaryWriter()\n",
    "\n",
    "for epoch in range(100):\n",
    "    train_loss = np.random.random((1,))  # compute train loss\n",
    "    val_loss = np.random.random((1,))  # compute validation loss\n",
    "    writer.add_scalar(\"Loss/train\", train_loss, epoch)\n",
    "    writer.add_scalar(\"Loss/val\", val_loss, epoch)\n",
    "\n",
    "# Parameters\n",
    "num_samples = 20  # Number of dummy images\n",
    "num_classes = 10  # Number of classes\n",
    "image_shape = (3, 32, 32)  # Image dimensions (channels, height, width)\n",
    "\n",
    "# Generate random images and labels\n",
    "images = torch.randn(num_samples, *image_shape)  # Random images\n",
    "labels = torch.randint(0, num_classes, (num_samples,))  # Random labels\n",
    "\n",
    "# Create TensorDataset and DataLoader\n",
    "dataset = TensorDataset(images, labels)\n",
    "trainloader = DataLoader(dataset, batch_size=32, shuffle=True)\n",
    "\n",
    "images, labels = next(iter(trainloader))\n",
    "img_grid = torchvision.utils.make_grid(images)\n",
    "writer.add_image(\"sample_images\", img_grid)\n",
    "\n",
    "writer.flush()\n",
    "writer.close()"
   ]
  }
 ],
 "metadata": {
  "kernelspec": {
   "display_name": ".venv",
   "language": "python",
   "name": "python3"
  },
  "language_info": {
   "codemirror_mode": {
    "name": "ipython",
    "version": 3
   },
   "file_extension": ".py",
   "mimetype": "text/x-python",
   "name": "python",
   "nbconvert_exporter": "python",
   "pygments_lexer": "ipython3",
   "version": "3.12.9"
  }
 },
 "nbformat": 4,
 "nbformat_minor": 5
}
