{
 "cells": [
  {
   "cell_type": "code",
   "execution_count": null,
   "id": "921ff39f",
   "metadata": {},
   "outputs": [],
   "source": [
    "import torch"
   ]
  },
  {
   "cell_type": "code",
   "execution_count": null,
   "id": "6cc4e34e",
   "metadata": {},
   "outputs": [],
   "source": [
    "import torchvision.models as models\n",
    "\n",
    "# Initialize SqueezeNet model with pretrained ImageNet weights\n",
    "\n",
    "import torch\n",
    "from torchvision import models, transforms\n",
    "from PIL import Image\n",
    "\n",
    "# 1. Load pre-trained SqueezeNet1_1 model\n",
    "model = models.squeezenet1_1(weights='IMAGENET1K_V1')"
   ]
  },
  {
   "cell_type": "code",
   "execution_count": 4,
   "id": "232094b4",
   "metadata": {},
   "outputs": [
    {
     "data": {
      "text/plain": [
       "==========================================================================================\n",
       "Layer (type:depth-idx)                   Output Shape              Param #\n",
       "==========================================================================================\n",
       "SqueezeNet                               [1, 1000]                 --\n",
       "├─Sequential: 1-1                        [1, 512, 13, 13]          --\n",
       "│    └─Conv2d: 2-1                       [1, 64, 111, 111]         1,792\n",
       "│    └─ReLU: 2-2                         [1, 64, 111, 111]         --\n",
       "│    └─MaxPool2d: 2-3                    [1, 64, 55, 55]           --\n",
       "│    └─Fire: 2-4                         [1, 128, 55, 55]          --\n",
       "│    │    └─Conv2d: 3-1                  [1, 16, 55, 55]           1,040\n",
       "│    │    └─ReLU: 3-2                    [1, 16, 55, 55]           --\n",
       "│    │    └─Conv2d: 3-3                  [1, 64, 55, 55]           1,088\n",
       "│    │    └─ReLU: 3-4                    [1, 64, 55, 55]           --\n",
       "│    │    └─Conv2d: 3-5                  [1, 64, 55, 55]           9,280\n",
       "│    │    └─ReLU: 3-6                    [1, 64, 55, 55]           --\n",
       "│    └─Fire: 2-5                         [1, 128, 55, 55]          --\n",
       "│    │    └─Conv2d: 3-7                  [1, 16, 55, 55]           2,064\n",
       "│    │    └─ReLU: 3-8                    [1, 16, 55, 55]           --\n",
       "│    │    └─Conv2d: 3-9                  [1, 64, 55, 55]           1,088\n",
       "│    │    └─ReLU: 3-10                   [1, 64, 55, 55]           --\n",
       "│    │    └─Conv2d: 3-11                 [1, 64, 55, 55]           9,280\n",
       "│    │    └─ReLU: 3-12                   [1, 64, 55, 55]           --\n",
       "│    └─MaxPool2d: 2-6                    [1, 128, 27, 27]          --\n",
       "│    └─Fire: 2-7                         [1, 256, 27, 27]          --\n",
       "│    │    └─Conv2d: 3-13                 [1, 32, 27, 27]           4,128\n",
       "│    │    └─ReLU: 3-14                   [1, 32, 27, 27]           --\n",
       "│    │    └─Conv2d: 3-15                 [1, 128, 27, 27]          4,224\n",
       "│    │    └─ReLU: 3-16                   [1, 128, 27, 27]          --\n",
       "│    │    └─Conv2d: 3-17                 [1, 128, 27, 27]          36,992\n",
       "│    │    └─ReLU: 3-18                   [1, 128, 27, 27]          --\n",
       "│    └─Fire: 2-8                         [1, 256, 27, 27]          --\n",
       "│    │    └─Conv2d: 3-19                 [1, 32, 27, 27]           8,224\n",
       "│    │    └─ReLU: 3-20                   [1, 32, 27, 27]           --\n",
       "│    │    └─Conv2d: 3-21                 [1, 128, 27, 27]          4,224\n",
       "│    │    └─ReLU: 3-22                   [1, 128, 27, 27]          --\n",
       "│    │    └─Conv2d: 3-23                 [1, 128, 27, 27]          36,992\n",
       "│    │    └─ReLU: 3-24                   [1, 128, 27, 27]          --\n",
       "│    └─MaxPool2d: 2-9                    [1, 256, 13, 13]          --\n",
       "│    └─Fire: 2-10                        [1, 384, 13, 13]          --\n",
       "│    │    └─Conv2d: 3-25                 [1, 48, 13, 13]           12,336\n",
       "│    │    └─ReLU: 3-26                   [1, 48, 13, 13]           --\n",
       "│    │    └─Conv2d: 3-27                 [1, 192, 13, 13]          9,408\n",
       "│    │    └─ReLU: 3-28                   [1, 192, 13, 13]          --\n",
       "│    │    └─Conv2d: 3-29                 [1, 192, 13, 13]          83,136\n",
       "│    │    └─ReLU: 3-30                   [1, 192, 13, 13]          --\n",
       "│    └─Fire: 2-11                        [1, 384, 13, 13]          --\n",
       "│    │    └─Conv2d: 3-31                 [1, 48, 13, 13]           18,480\n",
       "│    │    └─ReLU: 3-32                   [1, 48, 13, 13]           --\n",
       "│    │    └─Conv2d: 3-33                 [1, 192, 13, 13]          9,408\n",
       "│    │    └─ReLU: 3-34                   [1, 192, 13, 13]          --\n",
       "│    │    └─Conv2d: 3-35                 [1, 192, 13, 13]          83,136\n",
       "│    │    └─ReLU: 3-36                   [1, 192, 13, 13]          --\n",
       "│    └─Fire: 2-12                        [1, 512, 13, 13]          --\n",
       "│    │    └─Conv2d: 3-37                 [1, 64, 13, 13]           24,640\n",
       "│    │    └─ReLU: 3-38                   [1, 64, 13, 13]           --\n",
       "│    │    └─Conv2d: 3-39                 [1, 256, 13, 13]          16,640\n",
       "│    │    └─ReLU: 3-40                   [1, 256, 13, 13]          --\n",
       "│    │    └─Conv2d: 3-41                 [1, 256, 13, 13]          147,712\n",
       "│    │    └─ReLU: 3-42                   [1, 256, 13, 13]          --\n",
       "│    └─Fire: 2-13                        [1, 512, 13, 13]          --\n",
       "│    │    └─Conv2d: 3-43                 [1, 64, 13, 13]           32,832\n",
       "│    │    └─ReLU: 3-44                   [1, 64, 13, 13]           --\n",
       "│    │    └─Conv2d: 3-45                 [1, 256, 13, 13]          16,640\n",
       "│    │    └─ReLU: 3-46                   [1, 256, 13, 13]          --\n",
       "│    │    └─Conv2d: 3-47                 [1, 256, 13, 13]          147,712\n",
       "│    │    └─ReLU: 3-48                   [1, 256, 13, 13]          --\n",
       "├─Sequential: 1-2                        [1, 1000, 1, 1]           --\n",
       "│    └─Dropout: 2-14                     [1, 512, 13, 13]          --\n",
       "│    └─Conv2d: 2-15                      [1, 1000, 13, 13]         513,000\n",
       "│    └─ReLU: 2-16                        [1, 1000, 13, 13]         --\n",
       "│    └─AdaptiveAvgPool2d: 2-17           [1, 1000, 1, 1]           --\n",
       "==========================================================================================\n",
       "Total params: 1,235,496\n",
       "Trainable params: 1,235,496\n",
       "Non-trainable params: 0\n",
       "Total mult-adds (Units.MEGABYTES): 351.74\n",
       "==========================================================================================\n",
       "Input size (MB): 0.60\n",
       "Forward/backward pass size (MB): 20.71\n",
       "Params size (MB): 4.94\n",
       "Estimated Total Size (MB): 26.26\n",
       "=========================================================================================="
      ]
     },
     "execution_count": 4,
     "metadata": {},
     "output_type": "execute_result"
    }
   ],
   "source": [
    "from torchinfo import summary\n",
    "\n",
    "input_size = (1, 3, 224, 224)  # (batch_size, channels, height, width)\n",
    "summary(model, input_size=input_size)"
   ]
  },
  {
   "cell_type": "code",
   "execution_count": null,
   "id": "4ce8b34e",
   "metadata": {},
   "outputs": [
    {
     "name": "stdout",
     "output_type": "stream",
     "text": [
      "Top-5 Predictions:\n",
      "golden retriever: 77.95%\n",
      "clumber: 8.25%\n",
      "Pekinese: 5.75%\n",
      "Labrador retriever: 3.82%\n",
      "Sussex spaniel: 1.76%\n"
     ]
    }
   ],
   "source": [
    "\n",
    "model.eval()  # Set to evaluation mode\n",
    "\n",
    "# 2. Preprocess your image\n",
    "preprocess = transforms.Compose([\n",
    "    transforms.Resize(256),\n",
    "    transforms.CenterCrop(224),\n",
    "    transforms.ToTensor(),\n",
    "    transforms.Normalize(\n",
    "        mean=[0.485, 0.456, 0.406],   # Standard ImageNet means\n",
    "        std=[0.229, 0.224, 0.225],    # Standard ImageNet stds\n",
    "    ),\n",
    "])\n",
    "\n",
    "img_path = \"pexels-photo-1108099.jpg\"  # Replace with your image file\n",
    "input_image = Image.open(img_path).convert('RGB')\n",
    "input_tensor = preprocess(input_image)\n",
    "input_batch = input_tensor.unsqueeze(0)  # Add batch dimension\n",
    "\n",
    "# 3. Run inference\n",
    "with torch.no_grad():\n",
    "    output = model(input_batch)\n",
    "\n",
    "# 4. Get prediction\n",
    "probabilities = torch.nn.functional.softmax(output[0], dim=0)\n",
    "top5_prob, top5_catid = torch.topk(probabilities, 5)\n",
    "\n",
    "# Download label list if you don't have it\n",
    "import requests\n",
    "labels = requests.get(\"https://raw.githubusercontent.com/pytorch/hub/master/imagenet_classes.txt\").text.splitlines()\n",
    "\n",
    "print(\"Top-5 Predictions:\")\n",
    "for i in range(top5_prob.size(0)):\n",
    "    print(f\"{labels[top5_catid[i]]}: {top5_prob[i].item()*100:.2f}%\")"
   ]
  }
 ],
 "metadata": {
  "kernelspec": {
   "display_name": ".venv",
   "language": "python",
   "name": "python3"
  },
  "language_info": {
   "codemirror_mode": {
    "name": "ipython",
    "version": 3
   },
   "file_extension": ".py",
   "mimetype": "text/x-python",
   "name": "python",
   "nbconvert_exporter": "python",
   "pygments_lexer": "ipython3",
   "version": "3.12.9"
  }
 },
 "nbformat": 4,
 "nbformat_minor": 5
}
