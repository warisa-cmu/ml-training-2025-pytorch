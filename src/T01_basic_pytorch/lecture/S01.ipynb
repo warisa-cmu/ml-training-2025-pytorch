{
 "cells": [
  {
   "cell_type": "code",
   "execution_count": 1,
   "id": "ae61b15e",
   "metadata": {},
   "outputs": [],
   "source": [
    "import torch"
   ]
  },
  {
   "cell_type": "code",
   "execution_count": null,
   "id": "8505eee5",
   "metadata": {},
   "outputs": [
    {
     "name": "stdout",
     "output_type": "stream",
     "text": [
      "tensor([1., 1., 1., 1.])\n",
      "tensor([[10, 10, 10],\n",
      "        [10, 10, 10]])\n"
     ]
    }
   ],
   "source": [
    "a = torch.empty(2, 3)\n",
    "print(a)\n",
    "\n",
    "b = torch.zeros(3, 3)\n",
    "print(b)\n",
    "\n",
    "c = torch.ones(4)\n",
    "print(c)\n",
    "\n",
    "d = torch.full((2, 3), 10)\n",
    "print(d)"
   ]
  },
  {
   "cell_type": "code",
   "execution_count": null,
   "id": "ea5436cd",
   "metadata": {},
   "outputs": [
    {
     "data": {
      "text/plain": [
       "tensor([[1, 2, 3],\n",
       "        [4, 5, 6]])"
      ]
     },
     "execution_count": 13,
     "metadata": {},
     "output_type": "execute_result"
    }
   ],
   "source": [
    "torch.tensor([[1, 2, 3], [4, 5, 6]])"
   ]
  },
  {
   "cell_type": "code",
   "execution_count": 18,
   "id": "47dafb52",
   "metadata": {},
   "outputs": [
    {
     "data": {
      "text/plain": [
       "tensor([[1., 0., 0.],\n",
       "        [0., 1., 0.],\n",
       "        [0., 0., 1.]])"
      ]
     },
     "execution_count": 18,
     "metadata": {},
     "output_type": "execute_result"
    }
   ],
   "source": [
    "torch.eye(3)"
   ]
  },
  {
   "cell_type": "code",
   "execution_count": null,
   "id": "61613f5a",
   "metadata": {},
   "outputs": [
    {
     "data": {
      "text/plain": [
       "tensor([[[-1.3321, -0.6498,  0.4663,  0.7584],\n",
       "         [ 1.7257, -0.3758, -0.6787, -1.1201],\n",
       "         [-0.2862,  2.0396,  0.2389, -1.0142]],\n",
       "\n",
       "        [[ 0.9203,  2.6145,  0.2254,  0.5829],\n",
       "         [-0.6697, -1.8369, -0.2352,  1.4239],\n",
       "         [ 0.1138, -0.8749,  1.0471,  1.9192]]])"
      ]
     },
     "execution_count": 34,
     "metadata": {},
     "output_type": "execute_result"
    }
   ],
   "source": [
    "torch.randn(2, 3, 4)"
   ]
  },
  {
   "cell_type": "code",
   "execution_count": 40,
   "id": "d34f8019",
   "metadata": {},
   "outputs": [
    {
     "name": "stdout",
     "output_type": "stream",
     "text": [
      "tensor([10., 20., 30.])\n",
      "tensor([1., 2., 3., 5.])\n"
     ]
    },
    {
     "ename": "RuntimeError",
     "evalue": "The size of tensor a (3) must match the size of tensor b (4) at non-singleton dimension 0",
     "output_type": "error",
     "traceback": [
      "\u001b[31m---------------------------------------------------------------------------\u001b[39m",
      "\u001b[31mRuntimeError\u001b[39m                              Traceback (most recent call last)",
      "\u001b[36mCell\u001b[39m\u001b[36m \u001b[39m\u001b[32mIn[40]\u001b[39m\u001b[32m, line 7\u001b[39m\n\u001b[32m      4\u001b[39m \u001b[38;5;28mprint\u001b[39m(x)\n\u001b[32m      5\u001b[39m \u001b[38;5;28mprint\u001b[39m(y)\n\u001b[32m----> \u001b[39m\u001b[32m7\u001b[39m \u001b[38;5;28mprint\u001b[39m(\u001b[43mx\u001b[49m\u001b[43m \u001b[49m\u001b[43m+\u001b[49m\u001b[43m \u001b[49m\u001b[43my\u001b[49m)\n\u001b[32m      8\u001b[39m \u001b[38;5;28mprint\u001b[39m(x - y)\n\u001b[32m      9\u001b[39m \u001b[38;5;28mprint\u001b[39m(x * y)\n",
      "\u001b[31mRuntimeError\u001b[39m: The size of tensor a (3) must match the size of tensor b (4) at non-singleton dimension 0"
     ]
    }
   ],
   "source": [
    "x = torch.tensor([10, 20, 30], dtype=torch.float32)\n",
    "y = torch.tensor([1, 2, 3, 5], dtype=torch.float32)\n",
    "\n",
    "print(x)\n",
    "print(y)\n",
    "\n",
    "print(x + y)\n",
    "print(x - y)\n",
    "print(x * y)\n",
    "print(x / y)"
   ]
  },
  {
   "cell_type": "code",
   "execution_count": 53,
   "id": "497825a3",
   "metadata": {},
   "outputs": [
    {
     "name": "stdout",
     "output_type": "stream",
     "text": [
      "tensor([[[[-1.1177, -1.5782],\n",
      "          [-0.6158,  0.9322]],\n",
      "\n",
      "         [[ 0.9391,  0.3837],\n",
      "          [ 0.3381, -0.3848]]],\n",
      "\n",
      "\n",
      "        [[[-0.4934, -0.8062],\n",
      "          [ 0.6122, -0.1161]],\n",
      "\n",
      "         [[-0.9119, -1.6575],\n",
      "          [-2.2442,  0.8647]]],\n",
      "\n",
      "\n",
      "        [[[ 0.4187,  0.5767],\n",
      "          [-0.5893, -0.7746]],\n",
      "\n",
      "         [[ 1.7357, -1.1219],\n",
      "          [ 1.8183,  1.1442]]]])\n"
     ]
    },
    {
     "data": {
      "text/plain": [
       "tensor([[[-1.1177, -1.5782, -0.6158,  0.9322],\n",
       "         [ 0.9391,  0.3837,  0.3381, -0.3848]],\n",
       "\n",
       "        [[-0.4934, -0.8062,  0.6122, -0.1161],\n",
       "         [-0.9119, -1.6575, -2.2442,  0.8647]],\n",
       "\n",
       "        [[ 0.4187,  0.5767, -0.5893, -0.7746],\n",
       "         [ 1.7357, -1.1219,  1.8183,  1.1442]]])"
      ]
     },
     "execution_count": 53,
     "metadata": {},
     "output_type": "execute_result"
    }
   ],
   "source": [
    "# Create a 3x2 tensor with random values sampled from a standard normal distribution\n",
    "x = torch.randn(3, 2, 2, 2)\n",
    "\n",
    "print(x)\n",
    "\n",
    "x.view(3,2,-1)\n"
   ]
  },
  {
   "cell_type": "code",
   "execution_count": 58,
   "id": "179fb8bb",
   "metadata": {},
   "outputs": [
    {
     "name": "stdout",
     "output_type": "stream",
     "text": [
      "[[1 2 3]\n",
      " [4 5 6]]\n",
      "tensor([[1, 2, 3],\n",
      "        [4, 5, 6]])\n",
      "[[1 2 3]\n",
      " [4 5 6]]\n"
     ]
    }
   ],
   "source": [
    "import numpy as np\n",
    "\n",
    "np_array = np.array([[1, 2, 3], [4, 5, 6]])\n",
    "\n",
    "print(np_array)\n",
    "\n",
    "\n",
    "a = torch.from_numpy(np_array)\n",
    "print(a)\n",
    "\n",
    "b = a.detach().cpu().numpy()\n",
    "print(b)"
   ]
  },
  {
   "cell_type": "code",
   "execution_count": null,
   "id": "da1cc14c",
   "metadata": {},
   "outputs": [],
   "source": []
  }
 ],
 "metadata": {
  "kernelspec": {
   "display_name": ".venv",
   "language": "python",
   "name": "python3"
  },
  "language_info": {
   "codemirror_mode": {
    "name": "ipython",
    "version": 3
   },
   "file_extension": ".py",
   "mimetype": "text/x-python",
   "name": "python",
   "nbconvert_exporter": "python",
   "pygments_lexer": "ipython3",
   "version": "3.12.10"
  }
 },
 "nbformat": 4,
 "nbformat_minor": 5
}
