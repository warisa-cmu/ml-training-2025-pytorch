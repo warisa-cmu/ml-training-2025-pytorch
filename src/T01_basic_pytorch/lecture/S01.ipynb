{
 "cells": [
  {
   "cell_type": "code",
   "execution_count": null,
   "id": "ae61b15e",
   "metadata": {},
   "outputs": [],
   "source": [
    "import torch"
   ]
  },
  {
   "cell_type": "code",
   "execution_count": null,
   "id": "8505eee5",
   "metadata": {},
   "outputs": [],
   "source": [
    "a = torch.empty(2, 3)\n",
    "print(a)\n",
    "\n",
    "b = torch.zeros(3, 3)\n",
    "print(b)\n",
    "\n",
    "c = torch.ones(4)\n",
    "print(c)\n",
    "\n",
    "d = torch.full((2, 3), 10)\n",
    "print(d)"
   ]
  },
  {
   "cell_type": "code",
   "execution_count": null,
   "id": "ea5436cd",
   "metadata": {},
   "outputs": [],
   "source": [
    "torch.tensor([[1, 2, 3], [4, 5, 6]])"
   ]
  },
  {
   "cell_type": "code",
   "execution_count": null,
   "id": "47dafb52",
   "metadata": {},
   "outputs": [],
   "source": [
    "torch.eye(3)"
   ]
  },
  {
   "cell_type": "code",
   "execution_count": null,
   "id": "61613f5a",
   "metadata": {},
   "outputs": [],
   "source": [
    "torch.randn(2, 3, 4)"
   ]
  },
  {
   "cell_type": "code",
   "execution_count": null,
   "id": "d34f8019",
   "metadata": {},
   "outputs": [],
   "source": [
    "x = torch.tensor([10, 20, 30], dtype=torch.float32)\n",
    "y = torch.tensor([1, 2, 3], dtype=torch.float32)\n",
    "\n",
    "print(x)\n",
    "print(y)\n",
    "\n",
    "print(x + y)\n",
    "print(x - y)\n",
    "print(x * y)\n",
    "print(x / y)"
   ]
  },
  {
   "cell_type": "code",
   "execution_count": null,
   "id": "497825a3",
   "metadata": {},
   "outputs": [],
   "source": [
    "# Create a 3x2 tensor with random values sampled from a standard normal distribution\n",
    "x = torch.randn(3, 2, 2, 2)\n",
    "print(x)\n",
    "x.view(3, 2, -1)"
   ]
  },
  {
   "cell_type": "code",
   "execution_count": null,
   "id": "179fb8bb",
   "metadata": {},
   "outputs": [],
   "source": [
    "import numpy as np\n",
    "\n",
    "np_array = np.array([[1, 2, 3], [4, 5, 6]])\n",
    "print(np_array)\n",
    "a = torch.from_numpy(np_array)\n",
    "print(a)\n",
    "b = a.detach().cpu().numpy()\n",
    "print(b)"
   ]
  }
 ],
 "metadata": {
  "kernelspec": {
   "display_name": ".venv",
   "language": "python",
   "name": "python3"
  },
  "language_info": {
   "codemirror_mode": {
    "name": "ipython",
    "version": 3
   },
   "file_extension": ".py",
   "mimetype": "text/x-python",
   "name": "python",
   "nbconvert_exporter": "python",
   "pygments_lexer": "ipython3",
   "version": "3.12.10"
  }
 },
 "nbformat": 4,
 "nbformat_minor": 5
}
