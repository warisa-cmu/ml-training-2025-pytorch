{
 "cells": [
  {
   "cell_type": "code",
   "execution_count": 3,
   "id": "c6b4bf85",
   "metadata": {},
   "outputs": [],
   "source": [
    "import torch\n",
    "import torch.nn as nn\n",
    "from torchinfo import summary"
   ]
  },
  {
   "cell_type": "code",
   "execution_count": 4,
   "id": "d31e6c80",
   "metadata": {},
   "outputs": [],
   "source": [
    "num_features = 50\n",
    "num_output = 3"
   ]
  },
  {
   "cell_type": "code",
   "execution_count": null,
   "id": "ff00d536",
   "metadata": {},
   "outputs": [],
   "source": [
    "model1 = nn.Sequential(\n",
    "    nn.Linear(num_features, 24),\n",
    "    nn.ReLU(),\n",
    "    nn.Linear(24, 12),\n",
    "    nn.ReLU(),\n",
    "    nn.Linear(12, 6),\n",
    "    nn.ReLU(),\n",
    "    nn.Linear(6, num_output),\n",
    ")"
   ]
  },
  {
   "cell_type": "code",
   "execution_count": null,
   "id": "06db40a0",
   "metadata": {},
   "outputs": [
    {
     "data": {
      "text/plain": [
       "==========================================================================================\n",
       "Layer (type:depth-idx)                   Output Shape              Param #\n",
       "==========================================================================================\n",
       "Sequential                               [100, 3]                  --\n",
       "├─Linear: 1-1                            [100, 24]                 1,224\n",
       "├─ReLU: 1-2                              [100, 24]                 --\n",
       "├─Linear: 1-3                            [100, 12]                 300\n",
       "├─ReLU: 1-4                              [100, 12]                 --\n",
       "├─Linear: 1-5                            [100, 6]                  78\n",
       "├─ReLU: 1-6                              [100, 6]                  --\n",
       "├─Linear: 1-7                            [100, 3]                  21\n",
       "==========================================================================================\n",
       "Total params: 1,623\n",
       "Trainable params: 1,623\n",
       "Non-trainable params: 0\n",
       "Total mult-adds (Units.MEGABYTES): 0.16\n",
       "==========================================================================================\n",
       "Input size (MB): 0.02\n",
       "Forward/backward pass size (MB): 0.04\n",
       "Params size (MB): 0.01\n",
       "Estimated Total Size (MB): 0.06\n",
       "=========================================================================================="
      ]
     },
     "execution_count": 10,
     "metadata": {},
     "output_type": "execute_result"
    }
   ],
   "source": [
    "# input_size = (num_features,)\n",
    "input_size = (100, num_features)\n",
    "summary(model1, input_size=input_size)"
   ]
  },
  {
   "cell_type": "code",
   "execution_count": null,
   "id": "15b14e7e",
   "metadata": {},
   "outputs": [
    {
     "name": "stdout",
     "output_type": "stream",
     "text": [
      "torch.Size([100, 50])\n",
      "torch.Size([100, 3])\n"
     ]
    }
   ],
   "source": [
    "batch_size = 100\n",
    "X = torch.randn((batch_size, num_features))\n",
    "print(X.shape)\n",
    "\n",
    "Y = model1(X)\n",
    "\n",
    "print(Y.shape)"
   ]
  },
  {
   "cell_type": "code",
   "execution_count": null,
   "id": "f1ebf42c",
   "metadata": {},
   "outputs": [],
   "source": [
    "class MyMLP(nn.Module):\n",
    "\n",
    "    def __init__(self, num_features, num_output):\n",
    "        super(MyMLP, self).__init__()\n",
    "        print(\"Init\")\n",
    "        self.fc1 = nn.Linear(num_features, 24)\n",
    "        self.fc2 = nn.Linear(24, 12)\n",
    "        self.fc3 = nn.Linear(12, 6)\n",
    "        self.fc4 = nn.Linear(6, num_output)\n",
    "        self.relu = nn.ReLU()\n",
    "    \n",
    "    def forward(self, x):\n",
    "        print(\"Forward\")\n",
    "        \n",
    "        x = self.fc1(x)\n",
    "        x = self.relu(x)\n",
    "        x = self.fc2(x)\n",
    "        x = self.relu(x)\n",
    "        x = self.fc3(x)\n",
    "        x = self.relu(x)\n",
    "        x = self.fc4(x)\n",
    "        return x"
   ]
  },
  {
   "cell_type": "code",
   "execution_count": 23,
   "id": "7029fdc3",
   "metadata": {},
   "outputs": [
    {
     "name": "stdout",
     "output_type": "stream",
     "text": [
      "Init\n"
     ]
    }
   ],
   "source": [
    "model2 = MyMLP(num_features=50, num_output=3)\n"
   ]
  },
  {
   "cell_type": "code",
   "execution_count": 24,
   "id": "fd2cfbad",
   "metadata": {},
   "outputs": [
    {
     "name": "stdout",
     "output_type": "stream",
     "text": [
      "Forward\n"
     ]
    },
    {
     "data": {
      "text/plain": [
       "==========================================================================================\n",
       "Layer (type:depth-idx)                   Output Shape              Param #\n",
       "==========================================================================================\n",
       "MyMLP                                    [100, 3]                  --\n",
       "├─Linear: 1-1                            [100, 24]                 1,224\n",
       "├─ReLU: 1-2                              [100, 24]                 --\n",
       "├─Linear: 1-3                            [100, 12]                 300\n",
       "├─ReLU: 1-4                              [100, 12]                 --\n",
       "├─Linear: 1-5                            [100, 6]                  78\n",
       "├─ReLU: 1-6                              [100, 6]                  --\n",
       "├─Linear: 1-7                            [100, 3]                  21\n",
       "==========================================================================================\n",
       "Total params: 1,623\n",
       "Trainable params: 1,623\n",
       "Non-trainable params: 0\n",
       "Total mult-adds (Units.MEGABYTES): 0.16\n",
       "==========================================================================================\n",
       "Input size (MB): 0.02\n",
       "Forward/backward pass size (MB): 0.04\n",
       "Params size (MB): 0.01\n",
       "Estimated Total Size (MB): 0.06\n",
       "=========================================================================================="
      ]
     },
     "execution_count": 24,
     "metadata": {},
     "output_type": "execute_result"
    }
   ],
   "source": [
    "input_size = (100, 50)\n",
    "summary(model2, input_size=input_size)"
   ]
  },
  {
   "cell_type": "code",
   "execution_count": 25,
   "id": "7460c857",
   "metadata": {},
   "outputs": [
    {
     "name": "stdout",
     "output_type": "stream",
     "text": [
      "Forward\n",
      "torch.Size([100, 3])\n"
     ]
    }
   ],
   "source": [
    "X = torch.randn((100, 50))\n",
    "\n",
    "Y = model2(X)\n",
    "print(Y.shape)"
   ]
  },
  {
   "cell_type": "code",
   "execution_count": 30,
   "id": "9ea94959",
   "metadata": {},
   "outputs": [
    {
     "name": "stdout",
     "output_type": "stream",
     "text": [
      "torch.Size([100, 50])\n",
      "torch.Size([100, 24])\n",
      "torch.Size([100, 24])\n",
      "torch.Size([100, 12])\n"
     ]
    }
   ],
   "source": [
    "print(X.shape)\n",
    "Y1 = model2.fc1(X)\n",
    "print(Y1.shape)\n",
    "Y2 = model2.relu(Y1)\n",
    "print(Y2.shape)\n",
    "Y3 = model2.fc2(Y2)\n",
    "print(Y3.shape)"
   ]
  },
  {
   "cell_type": "code",
   "execution_count": null,
   "id": "97770227",
   "metadata": {},
   "outputs": [],
   "source": []
  }
 ],
 "metadata": {
  "kernelspec": {
   "display_name": ".venv",
   "language": "python",
   "name": "python3"
  },
  "language_info": {
   "codemirror_mode": {
    "name": "ipython",
    "version": 3
   },
   "file_extension": ".py",
   "mimetype": "text/x-python",
   "name": "python",
   "nbconvert_exporter": "python",
   "pygments_lexer": "ipython3",
   "version": "3.12.10"
  }
 },
 "nbformat": 4,
 "nbformat_minor": 5
}
