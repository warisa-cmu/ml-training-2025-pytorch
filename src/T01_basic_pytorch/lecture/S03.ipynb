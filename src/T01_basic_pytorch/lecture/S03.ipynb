{
 "cells": [
  {
   "cell_type": "code",
   "execution_count": 7,
   "id": "c987957b",
   "metadata": {},
   "outputs": [],
   "source": [
    "import torch\n",
    "import torch.nn as nn"
   ]
  },
  {
   "cell_type": "code",
   "execution_count": 8,
   "id": "bb9cefab",
   "metadata": {},
   "outputs": [],
   "source": [
    "num_feature = 50\n",
    "num_output = 3"
   ]
  },
  {
   "cell_type": "code",
   "execution_count": 9,
   "id": "0a0c9151",
   "metadata": {},
   "outputs": [],
   "source": [
    "model = nn.Sequential(\n",
    "    nn.Linear(num_feature, 256),\n",
    "    nn.ReLU(),\n",
    "    nn.Linear(256, 128),\n",
    "    nn.ReLU(),    \n",
    "    nn.Linear(128, 64),\n",
    "    nn.ReLU(),\n",
    "    nn.Linear(64, 16),\n",
    "    nn.ReLU(),\n",
    "    nn.Linear(16, num_output)    \n",
    ")"
   ]
  },
  {
   "cell_type": "code",
   "execution_count": 10,
   "id": "f509a133",
   "metadata": {},
   "outputs": [
    {
     "name": "stdout",
     "output_type": "stream",
     "text": [
      "torch.Size([20, 50])\n"
     ]
    },
    {
     "data": {
      "text/plain": [
       "tensor([[-0.2117,  0.2330, -0.0633],\n",
       "        [-0.1993,  0.2398, -0.1064],\n",
       "        [-0.1938,  0.2307, -0.1066],\n",
       "        [-0.2117,  0.2517, -0.0795],\n",
       "        [-0.1866,  0.2209, -0.1175],\n",
       "        [-0.2053,  0.2119, -0.0850],\n",
       "        [-0.2040,  0.2310, -0.0898],\n",
       "        [-0.1970,  0.2166, -0.0945],\n",
       "        [-0.1867,  0.2205, -0.1058],\n",
       "        [-0.1918,  0.2285, -0.1125],\n",
       "        [-0.2047,  0.2074, -0.1042],\n",
       "        [-0.2052,  0.2302, -0.0842],\n",
       "        [-0.1940,  0.2375, -0.0857],\n",
       "        [-0.1934,  0.2363, -0.0963],\n",
       "        [-0.2042,  0.2392, -0.1062],\n",
       "        [-0.2055,  0.2220, -0.0901],\n",
       "        [-0.1998,  0.2196, -0.1218],\n",
       "        [-0.1922,  0.2249, -0.1016],\n",
       "        [-0.1938,  0.2173, -0.0925],\n",
       "        [-0.2047,  0.2295, -0.0899]], grad_fn=<AddmmBackward0>)"
      ]
     },
     "execution_count": 10,
     "metadata": {},
     "output_type": "execute_result"
    }
   ],
   "source": [
    "batch_size = 20\n",
    "\n",
    "X = torch.randn(batch_size, num_feature)\n",
    "\n",
    "print(X.shape)\n",
    "\n",
    "Y = model(X)\n",
    "\n",
    "Y"
   ]
  },
  {
   "cell_type": "code",
   "execution_count": null,
   "id": "ce9a1b7c",
   "metadata": {},
   "outputs": [],
   "source": []
  }
 ],
 "metadata": {
  "kernelspec": {
   "display_name": ".venv",
   "language": "python",
   "name": "python3"
  },
  "language_info": {
   "codemirror_mode": {
    "name": "ipython",
    "version": 3
   },
   "file_extension": ".py",
   "mimetype": "text/x-python",
   "name": "python",
   "nbconvert_exporter": "python",
   "pygments_lexer": "ipython3",
   "version": "3.12.10"
  }
 },
 "nbformat": 4,
 "nbformat_minor": 5
}
