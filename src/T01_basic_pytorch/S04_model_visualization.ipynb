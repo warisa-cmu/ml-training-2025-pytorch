{
 "cells": [
  {
   "cell_type": "markdown",
   "id": "1fba8c27",
   "metadata": {},
   "source": [
    "# Model visualization"
   ]
  },
  {
   "cell_type": "code",
   "execution_count": null,
   "id": "3d9303c0",
   "metadata": {},
   "outputs": [],
   "source": [
    "import torch"
   ]
  },
  {
   "cell_type": "code",
   "execution_count": null,
   "id": "f0d1c474",
   "metadata": {},
   "outputs": [],
   "source": [
    "import torch.nn as nn\n",
    "\n",
    "num_features = 50\n",
    "num_output = 3\n",
    "\n",
    "# Define the model\n",
    "model = nn.Sequential(\n",
    "    nn.Linear(num_features, 24),\n",
    "    nn.ReLU(),\n",
    "    nn.Linear(24, 12),\n",
    "    nn.ReLU(),\n",
    "    nn.Linear(12, 6),\n",
    "    nn.ReLU(),\n",
    "    nn.Linear(6, num_output),\n",
    ")"
   ]
  },
  {
   "cell_type": "markdown",
   "id": "95f297d4",
   "metadata": {},
   "source": [
    "### Manual"
   ]
  },
  {
   "cell_type": "code",
   "execution_count": null,
   "id": "7d66eaf3",
   "metadata": {},
   "outputs": [],
   "source": [
    "def count_parameters(model):\n",
    "    \"\"\"Prints the number of total, trainable parameters, and parameters per layer for a PyTorch model.\"\"\"\n",
    "    total_params = sum(p.numel() for p in model.parameters())\n",
    "    trainable_params = sum(p.numel() for p in model.parameters() if p.requires_grad)\n",
    "    print(f\"Total parameters: {total_params:,}\")\n",
    "    print(f\"Trainable parameters: {trainable_params:,}\\n\")\n",
    "    print(\"Parameters by layer:\")\n",
    "    for name, param in model.named_parameters():\n",
    "        print(f\"  {name}: {param.numel():,}\")\n",
    "\n",
    "\n",
    "count_parameters(model)"
   ]
  },
  {
   "cell_type": "markdown",
   "id": "713dfedc",
   "metadata": {},
   "source": [
    "### Torchsummary"
   ]
  },
  {
   "cell_type": "code",
   "execution_count": null,
   "id": "ec9283ee",
   "metadata": {},
   "outputs": [],
   "source": [
    "from torchinfo import summary\n",
    "\n",
    "input_size = (num_features,)\n",
    "summary(model, input_size=input_size)"
   ]
  },
  {
   "cell_type": "markdown",
   "id": "b107e823",
   "metadata": {},
   "source": [
    "### Torchviz"
   ]
  },
  {
   "cell_type": "code",
   "execution_count": null,
   "id": "b1999bdd",
   "metadata": {},
   "outputs": [],
   "source": [
    "from torchviz import make_dot\n",
    "\n",
    "X_sample = torch.rand(1, num_features) # (batch_size, num_features)\n",
    "Y_sample = model(X_sample)\n",
    "make_dot(Y_sample, params=dict(model.named_parameters()))"
   ]
  },
  {
   "cell_type": "markdown",
   "id": "36012e9d",
   "metadata": {},
   "source": [
    "### Tensorboard"
   ]
  },
  {
   "cell_type": "markdown",
   "id": "770b9406",
   "metadata": {},
   "source": [
    "- Type in your command prompt\n",
    "    - `tensorboard --logdir=src/T01_basic_pytorch/runs`\n",
    "- Visit http://localhost:6006"
   ]
  },
  {
   "cell_type": "code",
   "execution_count": null,
   "id": "5864dc9c",
   "metadata": {},
   "outputs": [],
   "source": [
    "from torch.utils.tensorboard import SummaryWriter\n",
    "\n",
    "writer = SummaryWriter(\"runs/model_visualization\")\n",
    "writer.add_graph(model, X_sample)\n",
    "writer.close()"
   ]
  },
  {
   "cell_type": "markdown",
   "id": "b2614d61",
   "metadata": {},
   "source": [
    "### App\n",
    "\n",
    "- Visit https://netron.app/\n",
    "- Load the saved model."
   ]
  },
  {
   "cell_type": "code",
   "execution_count": null,
   "id": "117aaa26",
   "metadata": {},
   "outputs": [],
   "source": [
    "torch.save(model, \"./my_pytorch_model.pt\")"
   ]
  }
 ],
 "metadata": {
  "kernelspec": {
   "display_name": ".venv",
   "language": "python",
   "name": "python3"
  },
  "language_info": {
   "codemirror_mode": {
    "name": "ipython",
    "version": 3
   },
   "file_extension": ".py",
   "mimetype": "text/x-python",
   "name": "python",
   "nbconvert_exporter": "python",
   "pygments_lexer": "ipython3",
   "version": "3.12.10"
  }
 },
 "nbformat": 4,
 "nbformat_minor": 5
}
