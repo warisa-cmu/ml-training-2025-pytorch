{
 "cells": [
  {
   "cell_type": "code",
   "execution_count": 8,
   "id": "d4ebeb48",
   "metadata": {},
   "outputs": [],
   "source": [
    "import torch\n",
    "import torch.nn as nn"
   ]
  },
  {
   "cell_type": "code",
   "execution_count": 9,
   "id": "7b12f83c",
   "metadata": {},
   "outputs": [],
   "source": [
    "num_features = 50\n",
    "num_outputs = 3"
   ]
  },
  {
   "cell_type": "code",
   "execution_count": 10,
   "id": "f4485ee2",
   "metadata": {},
   "outputs": [],
   "source": [
    "# Build a neural network model using nn.Sequential\n",
    "model = nn.Sequential(\n",
    "    # First linear layer: transforms input features to 24 features\n",
    "    nn.Linear(num_features, 24),\n",
    "    # Activation function: applies ReLU non-linearity\n",
    "    nn.ReLU(),\n",
    "    # Second linear layer: reduces dimensions to 12 features\n",
    "    nn.Linear(24, 12),\n",
    "    # Activation function: applies ReLU non-linearity\n",
    "    nn.ReLU(),\n",
    "    # Third linear layer: reduces dimensions to 6 features\n",
    "    nn.Linear(12, 6),\n",
    "    # Activation function: applies ReLU non-linearity\n",
    "    nn.ReLU(),\n",
    "    # Output layer: maps 6 features to the desired number of output classes/values\n",
    "    nn.Linear(6, num_outputs),\n",
    ")"
   ]
  },
  {
   "cell_type": "code",
   "execution_count": null,
   "id": "fb2bb268",
   "metadata": {},
   "outputs": [
    {
     "name": "stdout",
     "output_type": "stream",
     "text": [
      "torch.Size([10, 20, 50]) torch.Size([10, 20, 3])\n"
     ]
    }
   ],
   "source": [
    "batch_size = 10\n",
    "X = torch.randn(batch_size, num_features)\n",
    "Y = model(X)\n",
    "print(X.shape, Y.shape)"
   ]
  },
  {
   "cell_type": "code",
   "execution_count": 12,
   "id": "0a123e8b",
   "metadata": {},
   "outputs": [],
   "source": [
    "class MyModel(nn.Module):\n",
    "    def __init__(self, num_features, num_outputs):\n",
    "        super(MyModel, self).__init__()\n",
    "        self.fc1 = nn.Linear(num_features, 24)\n",
    "        self.fc2 = nn.Linear(24, 12)\n",
    "        self.fc3 = nn.Linear(12, 6)\n",
    "        self.fc4 = nn.Linear(6, num_outputs)\n",
    "        self.relu = nn.ReLU()\n",
    "\n",
    "    def forward(self, x):\n",
    "        x = self.relu(self.fc1(x))\n",
    "        x = self.relu(self.fc2(x))\n",
    "        x = self.relu(self.fc3(x))\n",
    "        x = self.fc4(x)\n",
    "        return x\n"
   ]
  },
  {
   "cell_type": "code",
   "execution_count": 13,
   "id": "7b34781a",
   "metadata": {},
   "outputs": [],
   "source": [
    "# Example usage:\n",
    "model = MyModel(num_features, num_outputs)\n",
    "\n",
    "batch_size = 10\n",
    "num_samples = 20\n",
    "X = torch.randn(batch_size, num_samples, num_features)\n",
    "Y = model(X)"
   ]
  }
 ],
 "metadata": {
  "kernelspec": {
   "display_name": ".venv",
   "language": "python",
   "name": "python3"
  },
  "language_info": {
   "codemirror_mode": {
    "name": "ipython",
    "version": 3
   },
   "file_extension": ".py",
   "mimetype": "text/x-python",
   "name": "python",
   "nbconvert_exporter": "python",
   "pygments_lexer": "ipython3",
   "version": "3.12.10"
  }
 },
 "nbformat": 4,
 "nbformat_minor": 5
}
