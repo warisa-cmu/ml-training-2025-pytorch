{
 "cells": [
  {
   "cell_type": "code",
   "execution_count": null,
   "id": "b1cb54b4",
   "metadata": {},
   "outputs": [],
   "source": [
    "import torch \n",
    "\n",
    "# Create tensors with requires_grad=True to track computation\n",
    "a = torch.tensor([5.0], requires_grad=True)\n",
    "b = torch.tensor([6.0], requires_grad=True)\n",
    "\n",
    "# Define a function of a and b\n",
    "y = a**3 - b**2 + 3\n",
    "\n",
    "# Perform backpropagation to compute gradients\n",
    "y.backward()\n",
    "\n",
    "# Print the gradients\n",
    "print(\"dy/da:\", a.grad)  # Should be 3 * a^2 = 3 * 25 = 75\n",
    "print(\"dy/db:\", b.grad)  # Should be -2 * b = -12"
   ]
  }
 ],
 "metadata": {
  "language_info": {
   "name": "python"
  }
 },
 "nbformat": 4,
 "nbformat_minor": 5
}
