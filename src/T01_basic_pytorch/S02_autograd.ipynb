{
 "cells": [
  {
   "cell_type": "markdown",
   "id": "3b7b7689",
   "metadata": {},
   "source": [
    "## 🧠 What is torch.autograd?\n",
    "`torch.autograd` is PyTorch’s automatic differentiation engine. It tracks all operations on tensors to build a “computational graph”, and allows you to automatically compute gradients for optimization (used in training neural networks)."
   ]
  },
  {
   "cell_type": "code",
   "execution_count": null,
   "id": "bbc41081",
   "metadata": {},
   "outputs": [],
   "source": [
    "import torch"
   ]
  },
  {
   "cell_type": "markdown",
   "id": "4f037d70",
   "metadata": {},
   "source": [
    "### Simple example"
   ]
  },
  {
   "cell_type": "code",
   "execution_count": null,
   "id": "3e1d8dcb",
   "metadata": {},
   "outputs": [],
   "source": [
    "# Create a tensor and enable gradient tracking\n",
    "x = torch.tensor(2.0, requires_grad=True)\n",
    "\n",
    "# Perform some operations\n",
    "y = x**2 + 3 * x + 1\n",
    "\n",
    "# Compute the gradient of y with respect to x\n",
    "y.backward()\n",
    "\n",
    "print(x.grad)  # Output: tensor(7.)"
   ]
  },
  {
   "cell_type": "markdown",
   "id": "afd3ebad",
   "metadata": {},
   "source": [
    "#### 🔗 Visualization of the Computation Graph\n",
    "Here's a simple ASCII illustration:\n",
    "\n",
    "```\n",
    "      x\n",
    "      |\n",
    "     [**2]\n",
    "      |\n",
    "     y1 = x**2\n",
    "      |\n",
    "    [+] <-----------+\n",
    "      |             |\n",
    "   [3 * x]      [+ 1]\n",
    "      |             |\n",
    "      +-------------+\n",
    "             |\n",
    "             y\n",
    "```"
   ]
  },
  {
   "cell_type": "markdown",
   "id": "a719bec5",
   "metadata": {},
   "source": [
    "### Another example"
   ]
  },
  {
   "cell_type": "code",
   "execution_count": null,
   "id": "daea02c2",
   "metadata": {},
   "outputs": [],
   "source": [
    "# Create tensors with requires_grad=True to track computation\n",
    "a = torch.tensor([5.0], requires_grad=True)\n",
    "b = torch.tensor([6.0], requires_grad=True)\n",
    "\n",
    "# Define a function of a and b\n",
    "y = a**3 - b**2 + 3\n",
    "\n",
    "# Perform backpropagation to compute gradients\n",
    "y.backward()\n",
    "\n",
    "# Print the gradients\n",
    "print(\"dy/da:\", a.grad)  # Should be 3 * a^2 = 3 * 25 = 75\n",
    "print(\"dy/db:\", b.grad)  # Should be -2 * b = -12"
   ]
  },
  {
   "cell_type": "markdown",
   "id": "c3832f1d",
   "metadata": {},
   "source": [
    "### Multi-dimensional example"
   ]
  },
  {
   "cell_type": "code",
   "execution_count": null,
   "id": "7caa71fb",
   "metadata": {},
   "outputs": [],
   "source": [
    "w = torch.randn(2, 2, requires_grad=True)\n",
    "b = torch.randn(2, requires_grad=True)\n",
    "input = torch.randn(2, 2)\n",
    "output = (w * input).sum() + b.sum()\n",
    "output.backward()\n",
    "\n",
    "print(w.grad)  # Gradient of output w.r.t w\n",
    "print(b.grad)  # Gradient of output w.r.t b"
   ]
  }
 ],
 "metadata": {
  "kernelspec": {
   "display_name": ".venv",
   "language": "python",
   "name": "python3"
  },
  "language_info": {
   "codemirror_mode": {
    "name": "ipython",
    "version": 3
   },
   "file_extension": ".py",
   "mimetype": "text/x-python",
   "name": "python",
   "nbconvert_exporter": "python",
   "pygments_lexer": "ipython3",
   "version": "3.12.10"
  }
 },
 "nbformat": 4,
 "nbformat_minor": 5
}
