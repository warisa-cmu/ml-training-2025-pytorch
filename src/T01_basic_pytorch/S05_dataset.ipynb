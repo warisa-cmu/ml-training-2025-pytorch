{
 "cells": [
  {
   "cell_type": "code",
   "execution_count": null,
   "id": "33eb9fef",
   "metadata": {},
   "outputs": [],
   "source": [
    "import numpy as np\n",
    "import pandas as pd\n",
    "import torch\n",
    "from sklearn.model_selection import train_test_split\n",
    "from sklearn.preprocessing import StandardScaler\n",
    "from torch.utils.data import DataLoader, Dataset"
   ]
  },
  {
   "cell_type": "code",
   "execution_count": null,
   "id": "f0a0f3a6",
   "metadata": {},
   "outputs": [],
   "source": [
    "class DatasetPT(Dataset):\n",
    "    def __init__(self, X, Y):\n",
    "        self.X = X\n",
    "        self.Y = Y\n",
    "\n",
    "    def __len__(self):\n",
    "        return self.Y.shape[0]\n",
    "\n",
    "    def __getitem__(self, idx):\n",
    "        X_out = torch.from_numpy(self.X[idx, :]).float()\n",
    "        Y_out = torch.from_numpy(self.Y[idx, :]).float()\n",
    "        return X_out, Y_out\n"
   ]
  },
  {
   "cell_type": "code",
   "execution_count": null,
   "id": "853efa2f",
   "metadata": {},
   "outputs": [],
   "source": [
    "class DataHandlerPT(Dataset):\n",
    "    def __init__(self, _X, _Y, scalerX, scalerY):\n",
    "        self._X = _X\n",
    "        self._Y = _Y\n",
    "        self.scalerX = scalerX\n",
    "        self.scalerY = scalerY\n",
    "        self.X_train = None\n",
    "        self.X_test = None\n",
    "        self.X_val = None\n",
    "        self.Y_train = None\n",
    "        self.Y_val = None\n",
    "        self.Y_test = None\n",
    "\n",
    "    def split_and_scale(self, test_size, random_state, val_size=0):\n",
    "        _X_train, _X_test, _Y_train, _Y_test = train_test_split(\n",
    "            self._X, self._Y, test_size=test_size, random_state=random_state\n",
    "        )\n",
    "\n",
    "        self.scalerX.fit(_X_train)\n",
    "        self.scalerY.fit(_Y_train)\n",
    "\n",
    "        if val_size > 0:\n",
    "            _X_train, _X_val, _Y_train, _Y_val = train_test_split(\n",
    "                _X_train,\n",
    "                _Y_train,\n",
    "                # For example, if you want 80% train, 10% validation, and 10% test:\n",
    "                # First, split off the test set (10%):\n",
    "                # Next, split the remaining 90% into train and validation.\n",
    "                # Since you want 80% train and 10% validation overall, the validation set should be 10/90 = 0.111 of the remaining data.\n",
    "                test_size=val_size / (1 - test_size),\n",
    "                random_state=random_state + 100,  # Just make random_state different.\n",
    "            )\n",
    "            self.X_val = self.scalerX.transform(_X_val)\n",
    "            self.Y_val = self.scalerY.transform(_Y_val)\n",
    "\n",
    "        self.X_train = self.scalerX.transform(_X_train)\n",
    "        self.X_test = self.scalerX.transform(_X_test)\n",
    "\n",
    "        self.Y_train = self.scalerY.transform(_Y_train)\n",
    "        self.Y_test = self.scalerY.transform(_Y_test)\n",
    "\n",
    "    # This part is different from SKLearn version\n",
    "    def get_train(self):\n",
    "        return DatasetPT(X=self.X_train, Y=self.Y_train)\n",
    "\n",
    "    def get_val(self):\n",
    "        if self.X_val is None:\n",
    "            raise Exception(\"No validation data\")\n",
    "        return DatasetPT(X=self.X_val, Y=self.Y_val)\n",
    "\n",
    "    def get_test(self):\n",
    "        return DatasetPT(X=self.X_test, Y=self.Y_test)"
   ]
  },
  {
   "cell_type": "code",
   "execution_count": null,
   "id": "c90f71a8",
   "metadata": {},
   "outputs": [],
   "source": [
    "# Example of how to use Pytorch Dataset and DataLoader classes\n",
    "X = np.random.rand(100, 10)  # 100 samples, 10 features each\n",
    "Y = np.random.rand(100, 2)  # 100 targets\n",
    "\n",
    "ds = DatasetPT(X, Y)\n",
    "loader = DataLoader(ds, batch_size=16, shuffle=True)\n",
    "\n",
    "for X_batch, Y_batch in loader:\n",
    "    print(X_batch.shape, Y_batch.shape, Y_batch[0, :])"
   ]
  },
  {
   "cell_type": "code",
   "execution_count": null,
   "id": "02f19d8d",
   "metadata": {},
   "outputs": [],
   "source": [
    "# Example of how to use DataHandlerPT\n",
    "np.random.seed(0)\n",
    "_X = np.random.rand(100, 10)  # 100 samples, 10 features each\n",
    "_Y = np.random.rand(100, 2)  # 100 targets\n",
    "\n",
    "data_handler = DataHandlerPT(_X, _Y, scalerX=StandardScaler(), scalerY=StandardScaler())\n",
    "data_handler.split_and_scale(test_size=0.1, val_size=0.1, random_state=0)\n",
    "\n",
    "ds_train = data_handler.get_train()\n",
    "ds_val = data_handler.get_val()\n",
    "ds_test = data_handler.get_test()\n",
    "\n",
    "for ds in [ds_train, ds_val, ds_test]:\n",
    "    X, Y = ds[:]\n",
    "    print(X.shape, Y.shape, Y[0, :])"
   ]
  },
  {
   "cell_type": "code",
   "execution_count": null,
   "id": "eb9a4232",
   "metadata": {},
   "outputs": [],
   "source": [
    "df = pd.read_excel(\"data.xlsx\", index_col=\"exp\")\n",
    "df.head()"
   ]
  },
  {
   "cell_type": "code",
   "execution_count": null,
   "id": "688bf5db",
   "metadata": {},
   "outputs": [],
   "source": [
    "_X = df.iloc[:, :-3].values\n",
    "_Y = df.iloc[:, -3:].values\n",
    "print(_X.shape)\n",
    "print(_Y.shape)"
   ]
  },
  {
   "cell_type": "code",
   "execution_count": null,
   "id": "8283ae92",
   "metadata": {},
   "outputs": [],
   "source": [
    "data_handler = DataHandlerPT(\n",
    "    _X=_X, _Y=_Y, scalerX=StandardScaler(), scalerY=StandardScaler()\n",
    ")\n"
   ]
  },
  {
   "cell_type": "code",
   "execution_count": null,
   "id": "3f86dac1",
   "metadata": {},
   "outputs": [],
   "source": [
    "data_handler.split_and_scale(test_size=0.2, val_size=0.1, random_state=0)\n",
    "ds_train = data_handler.get_train()\n",
    "ds_val = data_handler.get_val()\n",
    "\n",
    "loader_train = DataLoader(ds_train, batch_size=16, shuffle=True)\n",
    "loader_val = DataLoader(ds_val, batch_size=16, shuffle=False)\n",
    "\n",
    "print(\"Train\")\n",
    "for X_batch, Y_batch in loader_train:\n",
    "    print(X_batch.shape, Y_batch.shape, Y_batch[0, :])\n",
    "\n",
    "print(\"Val\")\n",
    "for X_batch, Y_batch in loader_val:\n",
    "    print(X_batch.shape, Y_batch.shape, Y_batch[0, :])"
   ]
  }
 ],
 "metadata": {
  "kernelspec": {
   "display_name": ".venv",
   "language": "python",
   "name": "python3"
  },
  "language_info": {
   "codemirror_mode": {
    "name": "ipython",
    "version": 3
   },
   "file_extension": ".py",
   "mimetype": "text/x-python",
   "name": "python",
   "nbconvert_exporter": "python",
   "pygments_lexer": "ipython3",
   "version": "3.12.10"
  }
 },
 "nbformat": 4,
 "nbformat_minor": 5
}
