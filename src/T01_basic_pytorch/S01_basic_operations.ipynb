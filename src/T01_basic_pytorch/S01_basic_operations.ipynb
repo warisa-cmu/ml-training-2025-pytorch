{
 "cells": [
  {
   "cell_type": "markdown",
   "id": "32a99965",
   "metadata": {},
   "source": [
    "# Basic operations"
   ]
  },
  {
   "cell_type": "code",
   "execution_count": null,
   "id": "d233ab57",
   "metadata": {},
   "outputs": [],
   "source": [
    "import torch"
   ]
  },
  {
   "cell_type": "code",
   "execution_count": null,
   "id": "07083feb",
   "metadata": {},
   "outputs": [],
   "source": [
    "# Empty tensor (uninitialized values)\n",
    "a = torch.empty(2, 3)\n",
    "print(\"Empty tensor:\\n\", a)\n",
    "\n",
    "# Tensor filled with zeros\n",
    "b = torch.zeros(2, 3)\n",
    "print(\"Zeros tensor:\\n\", b)\n",
    "\n",
    "# Tensor filled with ones\n",
    "c = torch.ones(2, 3)\n",
    "print(\"Ones tensor:\\n\", c)\n",
    "\n",
    "# Tensor from list\n",
    "d = torch.tensor([[1, 2, 3], [4, 5, 6]])\n",
    "print(\"Tensor from list:\\n\", d)\n",
    "\n",
    "# Tensor with a specific value\n",
    "e = torch.full((2, 3), 7)\n",
    "print(\"Tensor filled with 7s:\\n\", e)\n",
    "\n",
    "# Identity matrix\n",
    "f = torch.eye(3)\n",
    "print(\"Identity matrix:\\n\", f)\n",
    "\n",
    "# Random\n",
    "g = torch.randn(3, 3)\n",
    "print(\"Random matrix:\\n\", g)\n"
   ]
  },
  {
   "cell_type": "code",
   "execution_count": null,
   "id": "1a84df41",
   "metadata": {},
   "outputs": [],
   "source": [
    "x = torch.tensor([10, 20, 30], dtype=torch.float32)\n",
    "y = torch.tensor([1, 2, 3], dtype=torch.float32)\n",
    "\n",
    "# Addition\n",
    "print(\"Addition:\", x + y)\n",
    "\n",
    "# Subtraction\n",
    "print(\"Subtraction:\", x - y)\n",
    "\n",
    "# Multiplication\n",
    "print(\"Multiplication:\", x * y)\n",
    "\n",
    "# Division\n",
    "print(\"Division:\", x / y)"
   ]
  },
  {
   "cell_type": "code",
   "execution_count": null,
   "id": "425b7503",
   "metadata": {},
   "outputs": [],
   "source": [
    "# Create a 3x2 tensor with random values sampled from a standard normal distribution\n",
    "x = torch.randn(3, 2)\n",
    "\n",
    "# Print the original tensor\n",
    "print(x)\n",
    "\n",
    "# Print the sum of all elements in the tensor (scalar)\n",
    "print(x.sum())\n",
    "\n",
    "# Print the sum of elements along rows (resulting in a 1D tensor of column sums)\n",
    "print(x.sum(dim=0))\n",
    "\n",
    "# Print the mean (average) of all elements in the tensor (scalar)\n",
    "print(x.mean())\n",
    "\n",
    "# Print the mean of elements along rows (1D tensor of column means)\n",
    "print(x.mean(dim=0))\n",
    "\n",
    "# Reshape the tensor to a 1D tensor with 6 elements (flatten)\n",
    "print(x.view(6))\n",
    "\n",
    "# Reshape the tensor to a 2x3 tensor; -1 lets PyTorch infer the correct dimension\n",
    "print(x.view(2, -1))"
   ]
  },
  {
   "cell_type": "code",
   "execution_count": null,
   "id": "7c3a9a66",
   "metadata": {},
   "outputs": [],
   "source": [
    "import numpy as np\n",
    "\n",
    "# Create a NumPy array\n",
    "np_array = np.array([[1, 2, 3], [4, 5, 6]])\n",
    "\n",
    "# Convert the NumPy array to a PyTorch tensor\n",
    "# The tensor will share memory with the NumPy array (changing one will affect the other, \n",
    "# if they're of compatible types).\n",
    "tensor_converted = torch.from_numpy(np_array)\n",
    "\n",
    "print(tensor_converted)\n",
    "\n",
    "numpy_converted = tensor_converted.detach().cpu().numpy()\n",
    "print(numpy_converted)"
   ]
  }
 ],
 "metadata": {
  "kernelspec": {
   "display_name": ".venv",
   "language": "python",
   "name": "python3"
  },
  "language_info": {
   "codemirror_mode": {
    "name": "ipython",
    "version": 3
   },
   "file_extension": ".py",
   "mimetype": "text/x-python",
   "name": "python",
   "nbconvert_exporter": "python",
   "pygments_lexer": "ipython3",
   "version": "3.12.10"
  }
 },
 "nbformat": 4,
 "nbformat_minor": 5
}
