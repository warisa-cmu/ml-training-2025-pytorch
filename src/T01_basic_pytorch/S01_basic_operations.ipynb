{
 "cells": [
  {
   "cell_type": "code",
   "execution_count": 50,
   "id": "d233ab57",
   "metadata": {},
   "outputs": [],
   "source": [
    "import torch"
   ]
  },
  {
   "cell_type": "code",
   "execution_count": 51,
   "id": "07083feb",
   "metadata": {},
   "outputs": [
    {
     "name": "stdout",
     "output_type": "stream",
     "text": [
      "Empty tensor:\n",
      " tensor([[0., 0., 0.],\n",
      "        [0., 0., 0.]])\n",
      "Zeros tensor:\n",
      " tensor([[0., 0., 0.],\n",
      "        [0., 0., 0.]])\n",
      "Ones tensor:\n",
      " tensor([[1., 1., 1.],\n",
      "        [1., 1., 1.]])\n",
      "Tensor from list:\n",
      " tensor([[1, 2, 3],\n",
      "        [4, 5, 6]])\n",
      "Tensor filled with 7s:\n",
      " tensor([[7, 7, 7],\n",
      "        [7, 7, 7]])\n",
      "Identity matrix:\n",
      " tensor([[1., 0., 0.],\n",
      "        [0., 1., 0.],\n",
      "        [0., 0., 1.]])\n"
     ]
    }
   ],
   "source": [
    "# Empty tensor (uninitialized values)\n",
    "a = torch.empty(2, 3)\n",
    "print(\"Empty tensor:\\n\", a)\n",
    "\n",
    "# Tensor filled with zeros\n",
    "b = torch.zeros(2, 3)\n",
    "print(\"Zeros tensor:\\n\", b)\n",
    "\n",
    "# Tensor filled with ones\n",
    "c = torch.ones(2, 3)\n",
    "print(\"Ones tensor:\\n\", c)\n",
    "\n",
    "# Tensor from list\n",
    "d = torch.tensor([[1, 2, 3], [4, 5, 6]])\n",
    "print(\"Tensor from list:\\n\", d)\n",
    "\n",
    "# Tensor with a specific value\n",
    "e = torch.full((2, 3), 7)\n",
    "print(\"Tensor filled with 7s:\\n\", e)\n",
    "\n",
    "# Identity matrix\n",
    "f = torch.eye(3)\n",
    "print(\"Identity matrix:\\n\", f)"
   ]
  },
  {
   "cell_type": "code",
   "execution_count": 52,
   "id": "1a84df41",
   "metadata": {},
   "outputs": [
    {
     "name": "stdout",
     "output_type": "stream",
     "text": [
      "Addition: tensor([11., 22., 33.])\n",
      "Subtraction: tensor([ 9., 18., 27.])\n",
      "Multiplication: tensor([10., 40., 90.])\n",
      "Division: tensor([10., 10., 10.])\n"
     ]
    }
   ],
   "source": [
    "x = torch.tensor([10, 20, 30], dtype=torch.float32)\n",
    "y = torch.tensor([1, 2, 3], dtype=torch.float32)\n",
    "\n",
    "# Addition\n",
    "print(\"Addition:\", x + y)\n",
    "\n",
    "# Subtraction\n",
    "print(\"Subtraction:\", x - y)\n",
    "\n",
    "# Multiplication\n",
    "print(\"Multiplication:\", x * y)\n",
    "\n",
    "# Division\n",
    "print(\"Division:\", x / y)"
   ]
  },
  {
   "cell_type": "code",
   "execution_count": null,
   "id": "87b29af1",
   "metadata": {},
   "outputs": [],
   "source": []
  },
  {
   "cell_type": "code",
   "execution_count": 53,
   "id": "f28640a5",
   "metadata": {},
   "outputs": [
    {
     "data": {
      "text/plain": [
       "tensor([[0., 0., 0.],\n",
       "        [0., 0., 0.]])"
      ]
     },
     "execution_count": 53,
     "metadata": {},
     "output_type": "execute_result"
    }
   ],
   "source": [
    "b"
   ]
  },
  {
   "cell_type": "code",
   "execution_count": 54,
   "id": "4c6e625e",
   "metadata": {},
   "outputs": [
    {
     "name": "stdout",
     "output_type": "stream",
     "text": [
      "dy/da: tensor([75.])\n",
      "dy/db: tensor([-12.])\n"
     ]
    }
   ],
   "source": [
    "# Create tensors with requires_grad=True to track computation\n",
    "a = torch.tensor([5.0], requires_grad=True)\n",
    "b = torch.tensor([6.0], requires_grad=True)\n",
    "\n",
    "# Define a function of a and b\n",
    "y = a**3 - b**2 + 3\n",
    "\n",
    "# Perform backpropagation to compute gradients\n",
    "y.backward()\n",
    "\n",
    "# Print the gradients\n",
    "print(\"dy/da:\", a.grad)  # Should be 3 * a^2 = 3 * 25 = 75\n",
    "print(\"dy/db:\", b.grad)  # Should be -2 * b = -12"
   ]
  },
  {
   "cell_type": "code",
   "execution_count": 55,
   "id": "1269ffcc",
   "metadata": {},
   "outputs": [
    {
     "name": "stdout",
     "output_type": "stream",
     "text": [
      "tensor([75.])\n",
      "tensor([81.])\n"
     ]
    }
   ],
   "source": [
    "z = a * b\n",
    "print(a.grad)\n",
    "z.backward()\n",
    "\n",
    "print(a.grad)"
   ]
  },
  {
   "cell_type": "code",
   "execution_count": 56,
   "id": "283c67e3",
   "metadata": {},
   "outputs": [],
   "source": [
    "# Initialize parameters with requires_grad=True\n",
    "w = torch.tensor([2.0, 3.0, 9.0], requires_grad=True)\n",
    "b = torch.tensor(1.0, requires_grad=True)\n",
    "\n",
    "x = torch.tensor([3.0, 0.0, 1.0])\n",
    "y_true = torch.tensor([5.0])\n",
    "\n",
    "for _ in range(100):\n",
    "    y_pred = b + torch.sum(w * x)  # Use torch.sum\n",
    "    loss = (y_pred - y_true).pow(2)\n",
    "    \n",
    "    loss.backward()  # No need for Variable(loss, ...)\n",
    "    \n",
    "    with torch.no_grad():\n",
    "        w -= 0.01 * w.grad\n",
    "        b -= 0.01 * b.grad\n",
    "    \n",
    "    w.grad.zero_()  # Reset gradients\n",
    "    b.grad.zero_()"
   ]
  },
  {
   "cell_type": "code",
   "execution_count": 60,
   "id": "7c335edb",
   "metadata": {},
   "outputs": [
    {
     "data": {
      "text/plain": [
       "tensor(5.0000, grad_fn=<SumBackward0>)"
      ]
     },
     "execution_count": 60,
     "metadata": {},
     "output_type": "execute_result"
    }
   ],
   "source": [
    "torch.sum(w * x)"
   ]
  },
  {
   "cell_type": "code",
   "execution_count": 61,
   "id": "e5826279",
   "metadata": {},
   "outputs": [
    {
     "name": "stdout",
     "output_type": "stream",
     "text": [
      "Epoch 20: Loss = 1.2121\n",
      "Epoch 40: Loss = 1.1827\n",
      "Epoch 60: Loss = 1.1587\n",
      "Epoch 80: Loss = 1.1390\n",
      "Epoch 100: Loss = 1.1228\n",
      "Epoch 120: Loss = 1.1096\n",
      "Epoch 140: Loss = 1.0987\n",
      "Epoch 160: Loss = 1.0898\n",
      "Epoch 180: Loss = 1.0826\n",
      "Epoch 200: Loss = 1.0766\n",
      "Learned weight: 2.0486, bias: 0.7133\n"
     ]
    }
   ],
   "source": [
    "# 1. Generate synthetic data: y = 2x + 1 + noise\n",
    "torch.manual_seed(0)\n",
    "x = torch.linspace(0, 10, 100).view(-1, 1)  # shape [100, 1]\n",
    "y = 2 * x + 1 + torch.randn(x.size()) * 1.0  # shape [100, 1]\n",
    "\n",
    "# 2. Initialize parameters (weights and bias) with requires_grad=True\n",
    "w = torch.randn(1, 1, requires_grad=True)\n",
    "b = torch.randn(1, requires_grad=True)\n",
    "\n",
    "# 3. Set learning rate and number of epochs\n",
    "learning_rate = 0.01\n",
    "epochs = 200\n",
    "\n",
    "# 4. Training loop\n",
    "for epoch in range(epochs):\n",
    "    # Forward pass: compute predictions\n",
    "    y_pred = x @ w + b  # matrix multiply and add bias\n",
    "\n",
    "    # Compute mean squared error loss\n",
    "    loss = ((y_pred - y) ** 2).mean()\n",
    "\n",
    "    # Backward pass: compute gradients\n",
    "    loss.backward()\n",
    "\n",
    "    # Update parameters manually (no optimizer)\n",
    "    with torch.no_grad():\n",
    "        w -= learning_rate * w.grad\n",
    "        b -= learning_rate * b.grad\n",
    "\n",
    "    # Zero gradients for next step\n",
    "    w.grad.zero_()\n",
    "    b.grad.zero_()\n",
    "\n",
    "    # Print loss every 20 epochs\n",
    "    if (epoch + 1) % 20 == 0:\n",
    "        print(f\"Epoch {epoch+1}: Loss = {loss.item():.4f}\")\n",
    "\n",
    "# 5. Print learned parameters\n",
    "print(f\"Learned weight: {w.item():.4f}, bias: {b.item():.4f}\")"
   ]
  },
  {
   "cell_type": "code",
   "execution_count": null,
   "id": "8e27f934",
   "metadata": {},
   "outputs": [],
   "source": []
  }
 ],
 "metadata": {
  "kernelspec": {
   "display_name": ".venv",
   "language": "python",
   "name": "python3"
  },
  "language_info": {
   "codemirror_mode": {
    "name": "ipython",
    "version": 3
   },
   "file_extension": ".py",
   "mimetype": "text/x-python",
   "name": "python",
   "nbconvert_exporter": "python",
   "pygments_lexer": "ipython3",
   "version": "3.12.10"
  }
 },
 "nbformat": 4,
 "nbformat_minor": 5
}
