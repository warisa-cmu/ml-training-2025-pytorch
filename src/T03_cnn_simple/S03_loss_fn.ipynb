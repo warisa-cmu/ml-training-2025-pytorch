{
 "cells": [
  {
   "cell_type": "markdown",
   "id": "f8d1d5cb",
   "metadata": {},
   "source": [
    "# Tests `nn.CrossEntropyLoss()`\n",
    "\n",
    "- Tests nn.CrossEntropyLoss() with a batch where, for each sample, the input has a high logit for a different class (simulates very confident predictions).\n",
    "- The target for every sample is class 2, so only the sample where i=2 will be \"correct\"; others will purposely be wrong.\n",
    "- The printed losses show how confident (or not) the loss function is under these conditions."
   ]
  },
  {
   "cell_type": "code",
   "execution_count": 64,
   "id": "a06a71ef",
   "metadata": {},
   "outputs": [],
   "source": [
    "import torch\n",
    "import torch.nn as nn"
   ]
  },
  {
   "cell_type": "code",
   "execution_count": null,
   "id": "b5c11568",
   "metadata": {},
   "outputs": [
    {
     "name": "stdout",
     "output_type": "stream",
     "text": [
      "torch.Size([5, 5])\n",
      "torch.Size([5])\n"
     ]
    }
   ],
   "source": [
    "# Define the batch size and number of classes\n",
    "batch_size = 5\n",
    "num_classes = batch_size\n",
    "\n",
    "# Generate random input logits with shape (batch_size, num_classes)\n",
    "input = torch.randn(batch_size, num_classes)\n",
    "\n",
    "# Create target tensor where all targets are class 2\n",
    "target = (torch.zeros(batch_size) + 2).long()\n",
    "\n",
    "# For each sample in the batch, make the correct class score much larger\n",
    "# (simulate the model being highly confident for the correct class = i)\n",
    "for i in range(num_classes):\n",
    "    input[i, i] += 5\n",
    "\n",
    "print(input.shape)\n",
    "print(target.shape)"
   ]
  },
  {
   "cell_type": "code",
   "execution_count": 66,
   "id": "410737a2",
   "metadata": {},
   "outputs": [
    {
     "name": "stdout",
     "output_type": "stream",
     "text": [
      "tensor([[ 4.2469, -0.4208,  0.7206, -0.1598,  0.8927],\n",
      "        [-0.5525,  5.3230, -0.7883, -0.2493, -1.5498],\n",
      "        [-0.7170,  0.1268,  5.4162,  1.3095,  0.3219],\n",
      "        [-0.9214,  0.5788,  0.5457,  4.0442,  0.7953],\n",
      "        [-0.3154, -0.0590, -0.0635, -1.0845,  4.1728]])\n"
     ]
    }
   ],
   "source": [
    "print(input)"
   ]
  },
  {
   "cell_type": "code",
   "execution_count": 67,
   "id": "9c9023a8",
   "metadata": {},
   "outputs": [
    {
     "name": "stdout",
     "output_type": "stream",
     "text": [
      "tensor([2, 2, 2, 2, 2])\n"
     ]
    }
   ],
   "source": [
    "print(target)"
   ]
  },
  {
   "cell_type": "code",
   "execution_count": null,
   "id": "fd2a837f",
   "metadata": {},
   "outputs": [
    {
     "name": "stdout",
     "output_type": "stream",
     "text": [
      "tensor(3.6088)\n",
      "tensor(6.1212)\n",
      "tensor(0.0294)\n",
      "tensor(3.6004)\n",
      "tensor(4.2807)\n"
     ]
    }
   ],
   "source": [
    "# Initialize the CrossEntropyLoss function\n",
    "loss = nn.CrossEntropyLoss()\n",
    "\n",
    "# Compute and print loss for each sample in the batch\n",
    "for b in range(batch_size):\n",
    "    # Pass one sample and its target at a time (unsqueeze(0) makes it a batch of 1)\n",
    "    output = loss(input[b, :].unsqueeze(0), target[b].unsqueeze(0))\n",
    "    print(output)"
   ]
  }
 ],
 "metadata": {
  "kernelspec": {
   "display_name": ".venv",
   "language": "python",
   "name": "python3"
  },
  "language_info": {
   "codemirror_mode": {
    "name": "ipython",
    "version": 3
   },
   "file_extension": ".py",
   "mimetype": "text/x-python",
   "name": "python",
   "nbconvert_exporter": "python",
   "pygments_lexer": "ipython3",
   "version": "3.12.10"
  }
 },
 "nbformat": 4,
 "nbformat_minor": 5
}
