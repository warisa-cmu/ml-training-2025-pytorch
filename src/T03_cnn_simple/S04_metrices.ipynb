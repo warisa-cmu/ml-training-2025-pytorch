{
 "cells": [
  {
   "cell_type": "code",
   "execution_count": null,
   "id": "b9c106e4",
   "metadata": {},
   "outputs": [],
   "source": [
    "from pprint import pp"
   ]
  },
  {
   "cell_type": "code",
   "execution_count": null,
   "id": "650ae94d",
   "metadata": {},
   "outputs": [],
   "source": [
    "import torch\n",
    "import torch.nn.functional as F\n",
    "from sklearn.metrics import classification_report\n",
    "\n",
    "\n",
    "def calc_metrices(logits: torch.Tensor, labels: torch.Tensor, isPrint=False):\n",
    "    # Apply softmax to logits to obtain prediction probabilities for each class\n",
    "    probs = F.softmax(logits, dim=1)  # Shape: (batch_size, num_classes)\n",
    "    \n",
    "    # Use argmax to get the predicted class index for each sample\n",
    "    preds = torch.argmax(probs, dim=1)  # Shape: (batch_size)\n",
    "\n",
    "    # Move prediction and label tensors to CPU and convert to numpy arrays for scikit-learn compatibility\n",
    "    preds_np = preds.cpu().numpy()\n",
    "    labels_np = labels.cpu().numpy()\n",
    "\n",
    "    # Generate the classification report as a dictionary (includes precision, recall, f1, etc.)\n",
    "    report = classification_report(labels_np, preds_np, output_dict=True)\n",
    "\n",
    "    # Optionally print a nicely formatted classification report if isPrint is True\n",
    "    if isPrint:\n",
    "        print(classification_report(labels_np, preds_np, digits=3))\n",
    "    \n",
    "    # Return the report dictionary and the numpy arrays of predictions and labels\n",
    "    return report, preds_np, labels_np"
   ]
  },
  {
   "cell_type": "code",
   "execution_count": null,
   "id": "ed265ca7",
   "metadata": {},
   "outputs": [],
   "source": [
    "# Example usage:\n",
    "\n",
    "batch_size = 20\n",
    "num_classes = 5\n",
    "logits = torch.randn(batch_size, num_classes)  # Example random logits\n",
    "labels = torch.randint(0, num_classes, (batch_size,))  # Example random true labels\n",
    "pp(logits)\n",
    "pp(labels)"
   ]
  },
  {
   "cell_type": "code",
   "execution_count": null,
   "id": "9820ea8a",
   "metadata": {},
   "outputs": [],
   "source": [
    "report, pred, labels = calc_metrices(logits, labels, isPrint=True)\n"
   ]
  },
  {
   "cell_type": "code",
   "execution_count": null,
   "id": "74094795",
   "metadata": {},
   "outputs": [],
   "source": [
    "pp(report)\n",
    "pp(pred)\n",
    "pp(labels)"
   ]
  }
 ],
 "metadata": {
  "kernelspec": {
   "display_name": ".venv",
   "language": "python",
   "name": "python3"
  },
  "language_info": {
   "codemirror_mode": {
    "name": "ipython",
    "version": 3
   },
   "file_extension": ".py",
   "mimetype": "text/x-python",
   "name": "python",
   "nbconvert_exporter": "python",
   "pygments_lexer": "ipython3",
   "version": "3.12.10"
  }
 },
 "nbformat": 4,
 "nbformat_minor": 5
}
