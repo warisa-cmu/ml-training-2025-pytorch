{
 "cells": [
  {
   "cell_type": "code",
   "execution_count": 15,
   "id": "2d6108a6",
   "metadata": {},
   "outputs": [],
   "source": [
    "import torch\n",
    "import torch.nn as nn"
   ]
  },
  {
   "cell_type": "code",
   "execution_count": 24,
   "id": "994d4732",
   "metadata": {},
   "outputs": [
    {
     "name": "stdout",
     "output_type": "stream",
     "text": [
      "torch.Size([3, 1, 28, 28])\n",
      "torch.Size([3, 10])\n",
      "tensor([[ 0.0009,  0.1741, -0.1220,  0.4918, -0.2920,  0.3586, -0.2173,  0.2212,\n",
      "          0.5016,  0.0486],\n",
      "        [ 0.0038,  0.1687, -0.1860,  0.5388, -0.2445,  0.3714, -0.2318,  0.1722,\n",
      "          0.5267,  0.0671],\n",
      "        [ 0.0391,  0.1764, -0.1618,  0.4911, -0.2282,  0.3735, -0.2499,  0.2417,\n",
      "          0.5159,  0.1291]], grad_fn=<AddmmBackward0>)\n"
     ]
    }
   ],
   "source": [
    "class SimpleCNN(nn.Module):\n",
    "    def __init__(self, num_classes=10):\n",
    "        super(SimpleCNN, self).__init__()\n",
    "        \n",
    "        self.conv1 = nn.Conv2d(1, 16, kernel_size=3, padding=1)\n",
    "        self.relu = nn.ReLU()\n",
    "        self.max_pool = nn.MaxPool2d(2)\n",
    "        self.conv2 = nn.Conv2d(16, 32, kernel_size=3, padding=1)\n",
    "        \n",
    "        self.adaptive_pool = nn.AdaptiveAvgPool2d((4,4))\n",
    "        \n",
    "        self.fc1 = nn.Linear(32 * 4 * 4, num_classes)\n",
    "        \n",
    "    def forward(self, X):\n",
    "        X = self.conv1(X)\n",
    "        X = self.relu(X)\n",
    "        X = self.max_pool(X)\n",
    "        X = self.conv2(X)\n",
    "        X = self.relu(X)\n",
    "        X = self.max_pool(X)\n",
    "        X = self.adaptive_pool(X)\n",
    "        \n",
    "        X = X.view(X.shape[0],-1)\n",
    "        X = self.fc1(X)\n",
    "        \n",
    "        return X\n",
    "\n",
    "model = SimpleCNN()\n",
    "\n",
    "X = torch.randn(3,1,28,28)\n",
    "print(X.shape)\n",
    "Y = model(X)\n",
    "print(Y.shape)\n",
    "print(Y)"
   ]
  },
  {
   "cell_type": "code",
   "execution_count": null,
   "id": "f0fa1e6d",
   "metadata": {},
   "outputs": [],
   "source": []
  }
 ],
 "metadata": {
  "kernelspec": {
   "display_name": ".venv",
   "language": "python",
   "name": "python3"
  },
  "language_info": {
   "codemirror_mode": {
    "name": "ipython",
    "version": 3
   },
   "file_extension": ".py",
   "mimetype": "text/x-python",
   "name": "python",
   "nbconvert_exporter": "python",
   "pygments_lexer": "ipython3",
   "version": "3.12.10"
  }
 },
 "nbformat": 4,
 "nbformat_minor": 5
}
