{
 "cells": [
  {
   "cell_type": "code",
   "execution_count": 84,
   "id": "f848a708",
   "metadata": {},
   "outputs": [],
   "source": [
    "import pandas as pd\n",
    "import torch\n",
    "import torch.nn as nn\n",
    "from sklearn.preprocessing import StandardScaler\n",
    "from torch.utils.data import DataLoader\n",
    "from torch.utils.tensorboard import SummaryWriter\n",
    "from tqdm.notebook import tqdm\n",
    "\n",
    "from pt_runner.v1 import CheckpointHandler, DataHandlerPT, EarlyStopper\n"
   ]
  },
  {
   "cell_type": "code",
   "execution_count": 85,
   "id": "933ea139",
   "metadata": {},
   "outputs": [],
   "source": [
    "# New run\n",
    "# NEW_RUN = True\n",
    "# DT_REF = None\n",
    "\n",
    "# Resuming\n",
    "NEW_RUN = False\n",
    "DT_REF = \"2025-05-25_08-58\""
   ]
  },
  {
   "cell_type": "code",
   "execution_count": 86,
   "id": "858e24d6",
   "metadata": {},
   "outputs": [
    {
     "name": "stdout",
     "output_type": "stream",
     "text": [
      "(100, 47)\n",
      "(100, 3)\n"
     ]
    }
   ],
   "source": [
    "df = pd.read_excel(\"data.xlsx\", index_col=\"exp\")\n",
    "_X = df.iloc[:, :-3].values\n",
    "_Y = df.iloc[:, -3:].values\n",
    "print(_X.shape)\n",
    "print(_Y.shape)\n",
    "data_handler = DataHandlerPT(\n",
    "    _X=_X, _Y=_Y, scalerX=StandardScaler(), scalerY=StandardScaler()\n",
    ")"
   ]
  },
  {
   "cell_type": "code",
   "execution_count": 87,
   "id": "c34165ca",
   "metadata": {},
   "outputs": [],
   "source": [
    "# Define the model\n",
    "num_features = data_handler._X.shape[1]\n",
    "num_outputs = data_handler._Y.shape[1]\n",
    "\n",
    "\n",
    "class MyModel(nn.Module):\n",
    "    def __init__(self, num_features, num_outputs):\n",
    "        super(MyModel, self).__init__()\n",
    "        self.fc1 = nn.Linear(num_features, 24)\n",
    "        self.fc2 = nn.Linear(24, 12)\n",
    "        self.fc3 = nn.Linear(12, 6)\n",
    "        self.fc4 = nn.Linear(6, num_outputs)\n",
    "        self.relu = nn.ReLU()\n",
    "\n",
    "    def forward(self, x):\n",
    "        x = self.relu(self.fc1(x))\n",
    "        x = self.relu(self.fc2(x))\n",
    "        x = self.relu(self.fc3(x))\n",
    "        x = self.fc4(x)\n",
    "        return x\n",
    "    \n",
    "model = MyModel(num_features, num_outputs)\n",
    "optimizer = torch.optim.Adam(model.parameters(), lr=0.001)\n",
    "scheduler = torch.optim.lr_scheduler.ReduceLROnPlateau(optimizer, \"min\", patience=5)\n",
    "loss_fn = nn.MSELoss()  # mean square error"
   ]
  },
  {
   "cell_type": "code",
   "execution_count": 88,
   "id": "17b8f3cb",
   "metadata": {},
   "outputs": [
    {
     "name": "stdout",
     "output_type": "stream",
     "text": [
      "----------------------------------------------------------------\n",
      "        Layer (type)               Output Shape         Param #\n",
      "================================================================\n",
      "            Linear-1                   [-1, 24]           1,152\n",
      "              ReLU-2                   [-1, 24]               0\n",
      "            Linear-3                   [-1, 12]             300\n",
      "              ReLU-4                   [-1, 12]               0\n",
      "            Linear-5                    [-1, 6]              78\n",
      "              ReLU-6                    [-1, 6]               0\n",
      "            Linear-7                    [-1, 3]              21\n",
      "================================================================\n",
      "Total params: 1,551\n",
      "Trainable params: 1,551\n",
      "Non-trainable params: 0\n",
      "----------------------------------------------------------------\n",
      "Input size (MB): 0.00\n",
      "Forward/backward pass size (MB): 0.00\n",
      "Params size (MB): 0.01\n",
      "Estimated Total Size (MB): 0.01\n",
      "----------------------------------------------------------------\n"
     ]
    }
   ],
   "source": [
    "from torchsummary import summary\n",
    "\n",
    "input_size = (num_features,)\n",
    "summary(model, input_size=input_size)"
   ]
  },
  {
   "cell_type": "markdown",
   "id": "b6607162",
   "metadata": {},
   "source": [
    "- `torch.optim.lr_scheduler.ReduceLROnPlateau`\n",
    "  - This is a special scheduler that monitors a validation metric (often the validation loss).\n",
    "  - If that metric hasn't improved for a certain number of \"patience\" epochs, it automatically reduces (lowers) the learning rate.\n",
    "- `tqdm(...)`\n",
    "  - `tqdm` is a library that wraps over an iterator (like range) to provide a progress bar in your console. This way, you can see how far you are in your training!\n",
    "- `loss.item() * X_batch.size(0)`\n",
    "  - Multiplies the average loss per sample by the number of samples in the batch to get the total loss for this batch.\n",
    "- Tensorboard\n",
    "  - `tensorboard --logdir=src/T02_mlp/runs`\n",
    "  - Visit http://localhost:6006\n",
    "  - `remove-item ./src/T02_mlp/runs -Force`\n"
   ]
  },
  {
   "cell_type": "code",
   "execution_count": 89,
   "id": "2aa16e14",
   "metadata": {},
   "outputs": [
    {
     "name": "stdout",
     "output_type": "stream",
     "text": [
      "Resuming from epoch: 1280\n"
     ]
    },
    {
     "data": {
      "application/vnd.jupyter.widget-view+json": {
       "model_id": "00a3d6e6793d4e499b2b311cc4dba692",
       "version_major": 2,
       "version_minor": 0
      },
      "text/plain": [
       "Epoch: 1280it [00:00, ?it/s]"
      ]
     },
     "metadata": {},
     "output_type": "display_data"
    },
    {
     "name": "stdout",
     "output_type": "stream",
     "text": [
      "Save model @ epoch: 1280\n",
      "Save model @ epoch: 1290\n",
      "Save model @ epoch: 1320\n",
      "Save model @ epoch: 1330\n",
      "Stopped at epoch: 1430\n"
     ]
    }
   ],
   "source": [
    "n_epochs = 1000  # number of epochs to run\n",
    "batch_size = 10  # size of each batch\n",
    "validation_interval = 10  # Evaluate every 100 epochs\n",
    "log_name = \"M1\"\n",
    "\n",
    "# Save/load\n",
    "cph = CheckpointHandler()\n",
    "cph.make_dir(\"./checkpoints\")\n",
    "if NEW_RUN:\n",
    "    dt = cph.get_dt()\n",
    "    log_dir = f\"runs/{dt}\"\n",
    "    epoch_start = 0 \n",
    "else:\n",
    "    log_dir = f\"runs/{DT_REF}\"\n",
    "    save_path = f\"./checkpoints/{DT_REF}.pth\"\n",
    "    model, optimizer, epoch, val_loss = cph.load(\n",
    "    save_path=save_path, model=model, optimizer=optimizer)\n",
    "    epoch_start = epoch\n",
    "    print(f\"Resuming from epoch: {epoch}\")\n",
    "\n",
    "epoch_end = epoch_start + n_epochs\n",
    "\n",
    "# Initialize Components\n",
    "early_stopper = EarlyStopper(patience=10)\n",
    "writer = SummaryWriter(log_dir=log_dir)\n",
    "\n",
    "# Data\n",
    "data_handler.split_and_scale(test_size=0.2, val_size=0.1, random_state=0)\n",
    "ds_train = data_handler.get_train()\n",
    "ds_test = data_handler.get_test()\n",
    "ds_val = data_handler.get_val()\n",
    "loader_train = DataLoader(ds_train, batch_size=batch_size, shuffle=True)\n",
    "loader_val = DataLoader(ds_val, batch_size=batch_size, shuffle=False)\n",
    "\n",
    "# Main loop\n",
    "for epoch in tqdm(\n",
    "    range(epoch_start, epoch_end), initial=epoch_start, desc=\"Epoch\", total=n_epochs\n",
    "):\n",
    "    # Training Phase\n",
    "    model.train()\n",
    "    epoch_train_loss = 0.0\n",
    "\n",
    "    for X_batch, Y_batch in loader_train:\n",
    "        optimizer.zero_grad()\n",
    "        Y_pred = model(X_batch)\n",
    "        loss = loss_fn(Y_pred, Y_batch)\n",
    "        # Backward pass\n",
    "        loss.backward()\n",
    "        torch.nn.utils.clip_grad_norm_(model.parameters(), 1.0)  # Gradient clipping\n",
    "        # Update weights\n",
    "        optimizer.step()\n",
    "        # Multiplies the average loss per sample by the number of\n",
    "        # samples in the batch to get the total loss for this batch.\n",
    "        epoch_train_loss += loss.item() * X_batch.size(0)\n",
    "\n",
    "    avg_train_loss = epoch_train_loss / len(loader_train.dataset)\n",
    "\n",
    "    # Validation Phase\n",
    "    if epoch % validation_interval == 0 or epoch == epoch_start:\n",
    "        model.eval()\n",
    "        val_loss = 0.0\n",
    "        with torch.no_grad():\n",
    "            for X_val, Y_val in loader_val:\n",
    "                Y_pred = model(X_val)\n",
    "                val_loss += loss_fn(Y_pred, Y_val).item() * X_val.size(0)\n",
    "\n",
    "        avg_val_loss = val_loss / len(loader_val.dataset)\n",
    "        scheduler.step(avg_val_loss)\n",
    "\n",
    "        # Early Stopping and Checkpoint\n",
    "        es = early_stopper(avg_val_loss)\n",
    "        if es[\"best_loss\"]:\n",
    "            save_path = f\"./checkpoints/{dt}.pth\"\n",
    "            cph.save(\n",
    "                save_path=save_path,\n",
    "                model=model,\n",
    "                optimizer=optimizer,\n",
    "                val_loss=avg_val_loss,\n",
    "                epoch=epoch,\n",
    "            )\n",
    "            print(\"Save model @ epoch:\", epoch)\n",
    "        if es[\"early_stop\"]:\n",
    "            print(\"Stopped at epoch:\", epoch)\n",
    "            break\n",
    "\n",
    "        writer.add_scalars(\n",
    "            \"M1\", {\"train_loss\": avg_train_loss, \"val_loss\": avg_val_loss}, epoch\n",
    "        )\n"
   ]
  },
  {
   "cell_type": "code",
   "execution_count": 90,
   "id": "1b753395",
   "metadata": {},
   "outputs": [
    {
     "name": "stdout",
     "output_type": "stream",
     "text": [
      "./checkpoints/2025-05-25_08-58.pth\n"
     ]
    }
   ],
   "source": [
    "cph.list_saved_files()"
   ]
  }
 ],
 "metadata": {
  "kernelspec": {
   "display_name": ".venv",
   "language": "python",
   "name": "python3"
  },
  "language_info": {
   "codemirror_mode": {
    "name": "ipython",
    "version": 3
   },
   "file_extension": ".py",
   "mimetype": "text/x-python",
   "name": "python",
   "nbconvert_exporter": "python",
   "pygments_lexer": "ipython3",
   "version": "3.12.9"
  }
 },
 "nbformat": 4,
 "nbformat_minor": 5
}
