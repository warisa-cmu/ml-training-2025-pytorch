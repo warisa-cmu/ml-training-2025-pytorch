{
 "cells": [
  {
   "cell_type": "code",
   "execution_count": null,
   "id": "63fddc69",
   "metadata": {},
   "outputs": [],
   "source": [
    "import os\n",
    "from datetime import datetime\n",
    "from pprint import pp\n",
    "\n",
    "import numpy as np\n",
    "import seaborn as sns\n",
    "import torch"
   ]
  },
  {
   "cell_type": "code",
   "execution_count": null,
   "id": "790eb147",
   "metadata": {},
   "outputs": [],
   "source": [
    "dt = datetime.now().strftime(\"%Y-%m-%d_%H-%M\")\n",
    "print(dt)"
   ]
  },
  {
   "cell_type": "markdown",
   "id": "e102916d",
   "metadata": {},
   "source": [
    "- Type in your command prompt\n",
    "  - `tensorboard --logdir=src/T02_mlp/runs`\n",
    "- Visit http://localhost:6006\n",
    "- If you want to delete `runs` folders\n",
    "  - `remove-item ./src/T02_mlp/runs -Force`\n"
   ]
  },
  {
   "cell_type": "markdown",
   "id": "ddd84504",
   "metadata": {},
   "source": [
    "### Add data to tensorboard"
   ]
  },
  {
   "cell_type": "code",
   "execution_count": null,
   "id": "444e3465",
   "metadata": {},
   "outputs": [],
   "source": [
    "from torch.utils.tensorboard import SummaryWriter\n",
    "\n",
    "# Set the log directory for TensorBoard using the current datetime variable 'dt'\n",
    "log_dir = f\"runs/{dt}\"\n",
    "\n",
    "# Set a log name/tag for this experiment/run\n",
    "log_name = \"M1\"\n",
    "\n",
    "# Set the starting and ending epoch number\n",
    "epoch_start = 0\n",
    "epoch_end = epoch_start + 100\n",
    "\n",
    "# Create a SummaryWriter object for logging data to TensorBoard\n",
    "writer = SummaryWriter(log_dir=log_dir, purge_step=epoch_start)\n",
    "\n",
    "for epoch in range(epoch_start, epoch_end):\n",
    "    # Generate a random training loss (as an example)\n",
    "    train_loss = np.random.random((1,))\n",
    "\n",
    "    # Every 10 epochs, generate a random validation loss\n",
    "    if epoch % 10 == 0 or epoch == epoch_start:\n",
    "        val_loss = np.random.random((1,))\n",
    "\n",
    "    # Log the training and validation loss to TensorBoard with the given log name and epoch number\n",
    "    writer.add_scalars(\n",
    "        log_name, {\"train_loss\": train_loss, \"val_loss\": val_loss}, epoch\n",
    "    )\n",
    "\n",
    "# Close the SummaryWriter to flush and save all data\n",
    "writer.close()"
   ]
  },
  {
   "cell_type": "markdown",
   "id": "5a64cdc0",
   "metadata": {},
   "source": [
    "### Inspecting data"
   ]
  },
  {
   "cell_type": "code",
   "execution_count": null,
   "id": "6f04819b",
   "metadata": {},
   "outputs": [],
   "source": [
    "# Recursively walk through all directories and subdirectories starting from the current directory (\".\")\n",
    "for dirpath, dirnames, filenames in os.walk(\".\"):\n",
    "    # Replace any backslashes in the directory path with forward slashes (for consistency across operating systems)\n",
    "    pp(dirpath.replace(\"\\\\\", \"/\")) "
   ]
  },
  {
   "cell_type": "code",
   "execution_count": null,
   "id": "4dfa3818",
   "metadata": {},
   "outputs": [],
   "source": [
    "from tbparse import SummaryReader  # For reading TensorBoard log data\n",
    "\n",
    "# Specify the directory containing TensorBoard log files\n",
    "log_dir = \"./runs/2025-05-24_15-49\"\n",
    "\n",
    "try:\n",
    "    # Read scalar data from the TensorBoard log files, and include 'dir_name' as an extra column\n",
    "    reader = SummaryReader(log_dir, extra_columns={\"dir_name\"})\n",
    "    # Convert the read scalar data to a pandas DataFrame\n",
    "    df = reader.scalars\n",
    "    # Display the DataFrame to inspect the data (works in Jupyter Notebook environments)\n",
    "    display(df)\n",
    "    # Plot the values over training steps, using 'dir_name' to distinguish different runs/logs\n",
    "    sns.lineplot(df, x=\"step\", y=\"value\", hue=\"dir_name\")\n",
    "except Exception as e:\n",
    "    print(e)"
   ]
  },
  {
   "cell_type": "markdown",
   "id": "83f243ff",
   "metadata": {},
   "source": [
    "### Add other types of data"
   ]
  },
  {
   "cell_type": "code",
   "execution_count": null,
   "id": "683d410c",
   "metadata": {},
   "outputs": [],
   "source": [
    "import torchvision\n",
    "\n",
    "log_dir = f\"runs/{dt}\"\n",
    "writer = SummaryWriter(log_dir=log_dir)  # Initialize a TensorBoard SummaryWriter\n",
    "\n",
    "for epoch in range(10):\n",
    "    # Generate a random image tensor with 3 channels (e.g. RGB), 32x32 pixels\n",
    "    images = torch.randn((3, 32, 32))\n",
    "    # Create a grid from the images (even a single image is supported)\n",
    "    img_grid = torchvision.utils.make_grid(images)\n",
    "    # Save the image grid for TensorBoard visualization, tagged by epoch\n",
    "    writer.add_image(\"sample_images\", img_grid, epoch)\n",
    "\n",
    "writer.close()  # Properly close the SummaryWriter when done"
   ]
  }
 ],
 "metadata": {
  "kernelspec": {
   "display_name": ".venv",
   "language": "python",
   "name": "python3"
  },
  "language_info": {
   "codemirror_mode": {
    "name": "ipython",
    "version": 3
   },
   "file_extension": ".py",
   "mimetype": "text/x-python",
   "name": "python",
   "nbconvert_exporter": "python",
   "pygments_lexer": "ipython3",
   "version": "3.12.10"
  }
 },
 "nbformat": 4,
 "nbformat_minor": 5
}
