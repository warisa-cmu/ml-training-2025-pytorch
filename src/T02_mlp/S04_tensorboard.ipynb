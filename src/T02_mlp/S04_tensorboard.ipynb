{
 "cells": [
  {
   "cell_type": "code",
   "execution_count": 100,
   "id": "63fddc69",
   "metadata": {},
   "outputs": [],
   "source": [
    "from torch.utils.tensorboard import SummaryWriter\n",
    "import numpy as np\n",
    "from datetime import datetime"
   ]
  },
  {
   "cell_type": "code",
   "execution_count": 101,
   "id": "790eb147",
   "metadata": {},
   "outputs": [
    {
     "name": "stdout",
     "output_type": "stream",
     "text": [
      "2025-05-24_15-49\n"
     ]
    }
   ],
   "source": [
    "dt = datetime.now().strftime(\"%Y-%m-%d_%H-%M\")\n",
    "print(dt)"
   ]
  },
  {
   "cell_type": "markdown",
   "id": "e102916d",
   "metadata": {},
   "source": [
    "- Type in your command prompt\n",
    "  - `tensorboard --logdir=src/T02_mlp/runs`\n",
    "- Visit http://localhost:6006\n"
   ]
  },
  {
   "cell_type": "code",
   "execution_count": null,
   "id": "444e3465",
   "metadata": {},
   "outputs": [],
   "source": [
    "log_dir = f\"runs/{dt}\"\n",
    "log_name = \"M1\"\n",
    "writer = SummaryWriter(log_dir=log_dir)  # Creates a 'runs' directory\n",
    "\n",
    "epoch_start = 200\n",
    "epoch_end = epoch_start + 100\n",
    "for epoch in range(epoch_start, epoch_end):\n",
    "    train_loss = np.random.random((1,))  # compute train loss\n",
    "    if epoch % 10 == 0:\n",
    "        val_loss = np.random.random((1,))  # compute validation loss\n",
    "    writer.add_scalars(\n",
    "        log_name, {\"train_loss\": train_loss, \"val_loss\": val_loss}, epoch\n",
    "    )\n",
    "\n",
    "writer.close()"
   ]
  },
  {
   "cell_type": "code",
   "execution_count": 130,
   "id": "6f04819b",
   "metadata": {},
   "outputs": [
    {
     "name": "stdout",
     "output_type": "stream",
     "text": [
      "'.'\n",
      "'./runs'\n",
      "'./runs/2025-05-24_15-36'\n",
      "'./runs/2025-05-24_15-36/loss_train_loss'\n",
      "'./runs/2025-05-24_15-36/loss_val_loss'\n",
      "'./runs/2025-05-24_15-37'\n",
      "'./runs/2025-05-24_15-37/M1_train_loss'\n",
      "'./runs/2025-05-24_15-37/M1_val_loss'\n",
      "'./runs/2025-05-24_15-38'\n",
      "'./runs/2025-05-24_15-38/M1_train_loss'\n",
      "'./runs/2025-05-24_15-38/M1_val_loss'\n",
      "'./runs/2025-05-24_15-49'\n",
      "'./runs/2025-05-24_15-49/M1_train_loss'\n",
      "'./runs/2025-05-24_15-49/M1_val_loss'\n",
      "'./temp'\n"
     ]
    }
   ],
   "source": [
    "from pprint import pp\n",
    "import pandas as pd\n",
    "import os\n",
    "\n",
    "for dirpath, dirnames, filenames in os.walk(\".\"):\n",
    "    pp(dirpath.replace(\"\\\\\", \"/\"))"
   ]
  },
  {
   "cell_type": "code",
   "execution_count": null,
   "id": "4dfa3818",
   "metadata": {},
   "outputs": [
    {
     "data": {
      "application/vnd.microsoft.datawrangler.viewer.v0+json": {
       "columns": [
        {
         "name": "index",
         "rawType": "int64",
         "type": "integer"
        },
        {
         "name": "step",
         "rawType": "int64",
         "type": "integer"
        },
        {
         "name": "tag",
         "rawType": "object",
         "type": "string"
        },
        {
         "name": "value",
         "rawType": "float64",
         "type": "float"
        },
        {
         "name": "dir_name",
         "rawType": "object",
         "type": "string"
        }
       ],
       "ref": "6d17374c-09ca-4f9d-b768-05c7835829be",
       "rows": [
        [
         "0",
         "0",
         "M1",
         "0.3648439347743988",
         "M1_train_loss"
        ],
        [
         "1",
         "1",
         "M1",
         "0.858463704586029",
         "M1_train_loss"
        ],
        [
         "2",
         "2",
         "M1",
         "0.2554183900356293",
         "M1_train_loss"
        ],
        [
         "3",
         "3",
         "M1",
         "0.7854419350624084",
         "M1_train_loss"
        ],
        [
         "4",
         "4",
         "M1",
         "0.353473961353302",
         "M1_train_loss"
        ],
        [
         "5",
         "5",
         "M1",
         "0.23571616411209106",
         "M1_train_loss"
        ],
        [
         "6",
         "6",
         "M1",
         "0.5743127465248108",
         "M1_train_loss"
        ],
        [
         "7",
         "7",
         "M1",
         "0.12365320324897766",
         "M1_train_loss"
        ],
        [
         "8",
         "8",
         "M1",
         "0.6109004616737366",
         "M1_train_loss"
        ],
        [
         "9",
         "9",
         "M1",
         "0.31664571166038513",
         "M1_train_loss"
        ],
        [
         "10",
         "10",
         "M1",
         "0.17395715415477753",
         "M1_train_loss"
        ],
        [
         "11",
         "11",
         "M1",
         "0.37388938665390015",
         "M1_train_loss"
        ],
        [
         "12",
         "12",
         "M1",
         "0.2654392421245575",
         "M1_train_loss"
        ],
        [
         "13",
         "13",
         "M1",
         "0.5306074619293213",
         "M1_train_loss"
        ],
        [
         "14",
         "14",
         "M1",
         "0.016932209953665733",
         "M1_train_loss"
        ],
        [
         "15",
         "15",
         "M1",
         "0.01988450065255165",
         "M1_train_loss"
        ],
        [
         "16",
         "16",
         "M1",
         "0.12249244004487991",
         "M1_train_loss"
        ],
        [
         "17",
         "17",
         "M1",
         "0.33503207564353943",
         "M1_train_loss"
        ],
        [
         "18",
         "18",
         "M1",
         "0.6802282333374023",
         "M1_train_loss"
        ],
        [
         "19",
         "19",
         "M1",
         "0.9581217169761658",
         "M1_train_loss"
        ],
        [
         "20",
         "20",
         "M1",
         "0.1252930760383606",
         "M1_train_loss"
        ],
        [
         "21",
         "21",
         "M1",
         "0.6814790964126587",
         "M1_train_loss"
        ],
        [
         "22",
         "22",
         "M1",
         "0.09881541877985",
         "M1_train_loss"
        ],
        [
         "23",
         "23",
         "M1",
         "0.4286274015903473",
         "M1_train_loss"
        ],
        [
         "24",
         "24",
         "M1",
         "0.06460404396057129",
         "M1_train_loss"
        ],
        [
         "25",
         "25",
         "M1",
         "0.9626132249832153",
         "M1_train_loss"
        ],
        [
         "26",
         "26",
         "M1",
         "0.026342740282416344",
         "M1_train_loss"
        ],
        [
         "27",
         "27",
         "M1",
         "0.9852633476257324",
         "M1_train_loss"
        ],
        [
         "28",
         "28",
         "M1",
         "0.10754600167274475",
         "M1_train_loss"
        ],
        [
         "29",
         "29",
         "M1",
         "0.06882890313863754",
         "M1_train_loss"
        ],
        [
         "30",
         "30",
         "M1",
         "0.7311312556266785",
         "M1_train_loss"
        ],
        [
         "31",
         "31",
         "M1",
         "0.14402547478675842",
         "M1_train_loss"
        ],
        [
         "32",
         "32",
         "M1",
         "0.8040276169776917",
         "M1_train_loss"
        ],
        [
         "33",
         "33",
         "M1",
         "0.7474460601806641",
         "M1_train_loss"
        ],
        [
         "34",
         "34",
         "M1",
         "0.9938428997993469",
         "M1_train_loss"
        ],
        [
         "35",
         "35",
         "M1",
         "0.5543881058692932",
         "M1_train_loss"
        ],
        [
         "36",
         "36",
         "M1",
         "0.24120625853538513",
         "M1_train_loss"
        ],
        [
         "37",
         "37",
         "M1",
         "0.6314949989318848",
         "M1_train_loss"
        ],
        [
         "38",
         "38",
         "M1",
         "0.3996097147464752",
         "M1_train_loss"
        ],
        [
         "39",
         "39",
         "M1",
         "0.24403734505176544",
         "M1_train_loss"
        ],
        [
         "40",
         "40",
         "M1",
         "0.6456214785575867",
         "M1_train_loss"
        ],
        [
         "41",
         "41",
         "M1",
         "0.5313255786895752",
         "M1_train_loss"
        ],
        [
         "42",
         "42",
         "M1",
         "0.08586292713880539",
         "M1_train_loss"
        ],
        [
         "43",
         "43",
         "M1",
         "0.2126864790916443",
         "M1_train_loss"
        ],
        [
         "44",
         "44",
         "M1",
         "0.19513633847236633",
         "M1_train_loss"
        ],
        [
         "45",
         "45",
         "M1",
         "0.7779311537742615",
         "M1_train_loss"
        ],
        [
         "46",
         "46",
         "M1",
         "0.640261709690094",
         "M1_train_loss"
        ],
        [
         "47",
         "47",
         "M1",
         "0.14448189735412598",
         "M1_train_loss"
        ],
        [
         "48",
         "48",
         "M1",
         "0.7593833208084106",
         "M1_train_loss"
        ],
        [
         "49",
         "49",
         "M1",
         "0.3671157956123352",
         "M1_train_loss"
        ]
       ],
       "shape": {
        "columns": 4,
        "rows": 600
       }
      },
      "text/html": [
       "<div>\n",
       "<style scoped>\n",
       "    .dataframe tbody tr th:only-of-type {\n",
       "        vertical-align: middle;\n",
       "    }\n",
       "\n",
       "    .dataframe tbody tr th {\n",
       "        vertical-align: top;\n",
       "    }\n",
       "\n",
       "    .dataframe thead th {\n",
       "        text-align: right;\n",
       "    }\n",
       "</style>\n",
       "<table border=\"1\" class=\"dataframe\">\n",
       "  <thead>\n",
       "    <tr style=\"text-align: right;\">\n",
       "      <th></th>\n",
       "      <th>step</th>\n",
       "      <th>tag</th>\n",
       "      <th>value</th>\n",
       "      <th>dir_name</th>\n",
       "    </tr>\n",
       "  </thead>\n",
       "  <tbody>\n",
       "    <tr>\n",
       "      <th>0</th>\n",
       "      <td>0</td>\n",
       "      <td>M1</td>\n",
       "      <td>0.364844</td>\n",
       "      <td>M1_train_loss</td>\n",
       "    </tr>\n",
       "    <tr>\n",
       "      <th>1</th>\n",
       "      <td>1</td>\n",
       "      <td>M1</td>\n",
       "      <td>0.858464</td>\n",
       "      <td>M1_train_loss</td>\n",
       "    </tr>\n",
       "    <tr>\n",
       "      <th>2</th>\n",
       "      <td>2</td>\n",
       "      <td>M1</td>\n",
       "      <td>0.255418</td>\n",
       "      <td>M1_train_loss</td>\n",
       "    </tr>\n",
       "    <tr>\n",
       "      <th>3</th>\n",
       "      <td>3</td>\n",
       "      <td>M1</td>\n",
       "      <td>0.785442</td>\n",
       "      <td>M1_train_loss</td>\n",
       "    </tr>\n",
       "    <tr>\n",
       "      <th>4</th>\n",
       "      <td>4</td>\n",
       "      <td>M1</td>\n",
       "      <td>0.353474</td>\n",
       "      <td>M1_train_loss</td>\n",
       "    </tr>\n",
       "    <tr>\n",
       "      <th>...</th>\n",
       "      <td>...</td>\n",
       "      <td>...</td>\n",
       "      <td>...</td>\n",
       "      <td>...</td>\n",
       "    </tr>\n",
       "    <tr>\n",
       "      <th>595</th>\n",
       "      <td>295</td>\n",
       "      <td>M1</td>\n",
       "      <td>0.415811</td>\n",
       "      <td>M1_val_loss</td>\n",
       "    </tr>\n",
       "    <tr>\n",
       "      <th>596</th>\n",
       "      <td>296</td>\n",
       "      <td>M1</td>\n",
       "      <td>0.415811</td>\n",
       "      <td>M1_val_loss</td>\n",
       "    </tr>\n",
       "    <tr>\n",
       "      <th>597</th>\n",
       "      <td>297</td>\n",
       "      <td>M1</td>\n",
       "      <td>0.415811</td>\n",
       "      <td>M1_val_loss</td>\n",
       "    </tr>\n",
       "    <tr>\n",
       "      <th>598</th>\n",
       "      <td>298</td>\n",
       "      <td>M1</td>\n",
       "      <td>0.415811</td>\n",
       "      <td>M1_val_loss</td>\n",
       "    </tr>\n",
       "    <tr>\n",
       "      <th>599</th>\n",
       "      <td>299</td>\n",
       "      <td>M1</td>\n",
       "      <td>0.415811</td>\n",
       "      <td>M1_val_loss</td>\n",
       "    </tr>\n",
       "  </tbody>\n",
       "</table>\n",
       "<p>600 rows × 4 columns</p>\n",
       "</div>"
      ],
      "text/plain": [
       "     step tag     value       dir_name\n",
       "0       0  M1  0.364844  M1_train_loss\n",
       "1       1  M1  0.858464  M1_train_loss\n",
       "2       2  M1  0.255418  M1_train_loss\n",
       "3       3  M1  0.785442  M1_train_loss\n",
       "4       4  M1  0.353474  M1_train_loss\n",
       "..    ...  ..       ...            ...\n",
       "595   295  M1  0.415811    M1_val_loss\n",
       "596   296  M1  0.415811    M1_val_loss\n",
       "597   297  M1  0.415811    M1_val_loss\n",
       "598   298  M1  0.415811    M1_val_loss\n",
       "599   299  M1  0.415811    M1_val_loss\n",
       "\n",
       "[600 rows x 4 columns]"
      ]
     },
     "metadata": {},
     "output_type": "display_data"
    },
    {
     "data": {
      "text/plain": [
       "<Axes: xlabel='step', ylabel='value'>"
      ]
     },
     "execution_count": 150,
     "metadata": {},
     "output_type": "execute_result"
    },
    {
     "data": {
      "image/png": "[encoded data removed]",
      "text/plain": [
       "<Figure size 640x480 with 1 Axes>"
      ]
     },
     "metadata": {},
     "output_type": "display_data"
    }
   ],
   "source": [
    "# Import necessary libraries\n",
    "import seaborn as sns  # For data visualization\n",
    "from tbparse import SummaryReader  # For reading TensorBoard log data\n",
    "\n",
    "# Specify the directory containing TensorBoard log files\n",
    "log_dir = \"./runs/2025-05-24_15-49\" \n",
    "\n",
    "# Read scalar data from the TensorBoard log files, and include 'dir_name' as an extra column\n",
    "reader = SummaryReader(log_dir, extra_columns={'dir_name'})\n",
    "\n",
    "# Convert the read scalar data to a pandas DataFrame\n",
    "df = reader.scalars\n",
    "\n",
    "# Display the DataFrame to inspect the data (works in Jupyter Notebook environments)\n",
    "display(df)\n",
    "\n",
    "# Plot the values over training steps, using 'dir_name' to distinguish different runs/logs\n",
    "sns.lineplot(df, x=\"step\", y=\"value\", hue=\"dir_name\")"
   ]
  },
  {
   "cell_type": "code",
   "execution_count": 103,
   "id": "1f466ef5",
   "metadata": {},
   "outputs": [],
   "source": [
    "# import torchvision\n",
    "# import torch\n",
    "# from torch.utils.data import TensorDataset, DataLoader\n",
    "\n",
    "\n",
    "# for epoch in range(100):\n",
    "#     train_loss = np.random.random((1,))  # compute train loss\n",
    "#     val_loss = np.random.random((1,))  # compute validation loss\n",
    "#     writer.add_scalar(\"Loss/train\", train_loss, epoch)\n",
    "#     writer.add_scalar(\"Loss/val\", val_loss, epoch)\n",
    "\n",
    "# # Parameters\n",
    "# num_samples = 20  # Number of dummy images\n",
    "# num_classes = 10  # Number of classes\n",
    "# image_shape = (3, 32, 32)  # Image dimensions (channels, height, width)\n",
    "\n",
    "# # Generate random images and labels\n",
    "# images = torch.randn(num_samples, *image_shape)  # Random images\n",
    "# labels = torch.randint(0, num_classes, (num_samples,))  # Random labels\n",
    "\n",
    "# # Create TensorDataset and DataLoader\n",
    "# dataset = TensorDataset(images, labels)\n",
    "# trainloader = DataLoader(dataset, batch_size=32, shuffle=True)\n",
    "\n",
    "\n",
    "# images, labels = next(iter(trainloader))\n",
    "# img_grid = torchvision.utils.make_grid(images)\n",
    "# writer.add_image(\"sample_images\", img_grid)\n",
    "\n",
    "# writer.flush()\n",
    "# writer.close()"
   ]
  }
 ],
 "metadata": {
  "kernelspec": {
   "display_name": ".venv",
   "language": "python",
   "name": "python3"
  },
  "language_info": {
   "codemirror_mode": {
    "name": "ipython",
    "version": 3
   },
   "file_extension": ".py",
   "mimetype": "text/x-python",
   "name": "python",
   "nbconvert_exporter": "python",
   "pygments_lexer": "ipython3",
   "version": "3.12.9"
  }
 },
 "nbformat": 4,
 "nbformat_minor": 5
}
