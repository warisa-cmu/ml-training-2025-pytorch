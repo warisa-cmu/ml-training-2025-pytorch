{
 "cells": [
  {
   "cell_type": "markdown",
   "id": "88b58245",
   "metadata": {},
   "source": [
    "# Early Stopping\n",
    "\n",
    "Early stopping is performed on validation loss (not training loss) because the goal is to find out when your model is truly learning to generalize and not just memorizing the training data.\n"
   ]
  },
  {
   "cell_type": "code",
   "execution_count": null,
   "id": "25ac4e8f",
   "metadata": {},
   "outputs": [],
   "source": [
    "class EarlyStopper:\n",
    "    def __init__(self, patience=10, min_delta=0):\n",
    "        # patience: Number of epochs to wait for improvement before stopping\n",
    "        # min_delta: Minimum decrease in validation loss to consider as an improvement\n",
    "        self.patience = patience\n",
    "        self.min_delta = min_delta\n",
    "        self.counter = 0  # Counts epochs with no significant improvement\n",
    "        self.min_val_loss = float(\"inf\")  # Tracks the lowest validation loss so far\n",
    "\n",
    "    def __call__(self, val_loss):\n",
    "        # If current validation loss is the best so far, it's an improvement\n",
    "        if val_loss < self.min_val_loss:\n",
    "            self.min_val_loss = val_loss  # Update best loss\n",
    "            self.counter = 0  # Reset counter since we have improvement\n",
    "            return {\"best_loss\": True, \"early_stop\": False}\n",
    "        else:\n",
    "            # If loss hasn't improved enough (by at least min_delta), count it\n",
    "            if val_loss > (self.min_val_loss + self.min_delta):\n",
    "                self.counter += 1\n",
    "                # If we've waited too long with no improvement, trigger early stop\n",
    "                if self.counter >= self.patience:\n",
    "                    return {\"best_loss\": False, \"early_stop\": True}\n",
    "\n",
    "        # Fallback condition\n",
    "        # (1) Loss has not improved but should wait more (counter < patience)\n",
    "        # (2) No significant worsening (val_loss is between \"min_val_loss\" and \"min_val_loss + min_delta\")\n",
    "        return {\"best_loss\": False, \"early_stop\": False}\n"
   ]
  },
  {
   "cell_type": "code",
   "execution_count": null,
   "id": "724ee869",
   "metadata": {},
   "outputs": [],
   "source": [
    "early_stopper = EarlyStopper(patience=3)\n",
    "\n",
    "val_loss_arr = [0.9, 0.8, 0.7, 0.8, 0.9, 0.9, 0.9, 0.9]\n",
    "\n",
    "for epoch, val_loss in enumerate(val_loss_arr):\n",
    "    print(f\"loss: {val_loss}\")\n",
    "    es = early_stopper(val_loss)\n",
    "    if es[\"best_loss\"]:\n",
    "        print(\"Yes! let's save this model @ epoch:\", epoch)\n",
    "    if es[\"early_stop\"]:\n",
    "        print(\"Stopped at epoch:\", epoch)\n",
    "        break"
   ]
  }
 ],
 "metadata": {
  "kernelspec": {
   "display_name": ".venv",
   "language": "python",
   "name": "python3"
  },
  "language_info": {
   "codemirror_mode": {
    "name": "ipython",
    "version": 3
   },
   "file_extension": ".py",
   "mimetype": "text/x-python",
   "name": "python",
   "nbconvert_exporter": "python",
   "pygments_lexer": "ipython3",
   "version": "3.12.10"
  }
 },
 "nbformat": 4,
 "nbformat_minor": 5
}
