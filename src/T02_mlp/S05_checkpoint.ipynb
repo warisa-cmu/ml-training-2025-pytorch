{
 "cells": [
  {
   "cell_type": "code",
   "execution_count": null,
   "id": "fed25417",
   "metadata": {},
   "outputs": [],
   "source": [
    "import torch\n",
    "from datetime import datetime\n",
    "import os\n",
    "\n",
    "\n",
    "class CheckpointHandler:\n",
    "    def __init__(self, folder_path, filename=None):\n",
    "        if filename is None:\n",
    "            dt = datetime.now().strftime(\"%Y-%m-%d_%H-%M\")\n",
    "        self.checkpoint_file = f\"cp_{dt}.pth\"\n",
    "        os.makedirs(folder_path, exist_ok=True)\n",
    "        self.checkpoint_path = os.path.join(folder_path, self.checkpoint_file)\n",
    "\n",
    "    def save(self, model, optimizer, epoch, val_loss):\n",
    "        \"\"\"Save model, optimizer state, current epoch, and validation loss.\"\"\"\n",
    "        checkpoint = {\n",
    "            \"epoch\": epoch,\n",
    "            \"model_state_dict\": model.state_dict(),\n",
    "            \"optimizer_state_dict\": optimizer.state_dict(),\n",
    "            \"val_loss\": val_loss,\n",
    "        }\n",
    "        torch.save(checkpoint, self.checkpoint_path)\n",
    "        print(f\"Checkpoint saved at epoch {epoch} with val_loss {val_loss}\")\n",
    "\n",
    "    def load(self):\n",
    "        \"\"\"Load checkpoint and restore model & optimizer states.\"\"\"\n",
    "        checkpoint = torch.load(self.checkpoint_path)\n",
    "        self.model.load_state_dict(checkpoint[\"model_state_dict\"])\n",
    "        self.optimizer.load_state_dict(checkpoint[\"optimizer_state_dict\"])\n",
    "        epoch = checkpoint[\"epoch\"]\n",
    "        val_loss = checkpoint[\"val_loss\"]\n",
    "        print(\n",
    "            f\"Checkpoint loaded. Resuming from epoch {epoch} with val_loss {val_loss}\"\n",
    "        )\n",
    "        return self.model, self.optimizer, epoch, val_loss"
   ]
  },
  {
   "cell_type": "code",
   "execution_count": null,
   "id": "48146297",
   "metadata": {},
   "outputs": [],
   "source": []
  },
  {
   "cell_type": "code",
   "execution_count": 12,
   "id": "c30d2d46",
   "metadata": {},
   "outputs": [
    {
     "name": "stdout",
     "output_type": "stream",
     "text": [
      "weight tensor([[-0.2786,  0.4071, -0.4067],\n",
      "        [ 0.0814,  0.2762,  0.1213],\n",
      "        [ 0.2234,  0.0923, -0.1042]])\n",
      "bias tensor([ 0.2175,  0.3831, -0.0288])\n",
      "state {}\n",
      "param_groups [{'lr': 0.01, 'betas': (0.9, 0.999), 'eps': 1e-08, 'weight_decay': 0, 'amsgrad': False, 'maximize': False, 'foreach': None, 'capturable': False, 'differentiable': False, 'fused': None, 'decoupled_weight_decay': False, 'params': [0, 1]}]\n"
     ]
    }
   ],
   "source": [
    "model = torch.nn.Linear(3, 3)\n",
    "optimizer = torch.optim.Adam(model.parameters(), lr=0.01) \n",
    "\n",
    "state_dict = model.state_dict()\n",
    "for name, value in state_dict.items():\n",
    "    print(name, value)\n",
    "    \n",
    "state_dict = optimizer.state_dict()\n",
    "for name, value in state_dict.items():\n",
    "    print(name, value)"
   ]
  },
  {
   "cell_type": "code",
   "execution_count": 4,
   "id": "1de2de5b",
   "metadata": {},
   "outputs": [
    {
     "name": "stdout",
     "output_type": "stream",
     "text": [
      "Checkpoint saved at epoch 10 with val_loss 0.1\n"
     ]
    }
   ],
   "source": [
    "cp_handler = CheckpointHandler(model, optimizer, folder_path=\"cp\")\n",
    "cp_handler.save(epoch=10, val_loss=0.1)"
   ]
  },
  {
   "cell_type": "code",
   "execution_count": null,
   "id": "fd0b6784",
   "metadata": {},
   "outputs": [],
   "source": [
    "model, optimizer, epoch, val_loss = cp_handler.load()"
   ]
  }
 ],
 "metadata": {
  "kernelspec": {
   "display_name": ".venv",
   "language": "python",
   "name": "python3"
  },
  "language_info": {
   "codemirror_mode": {
    "name": "ipython",
    "version": 3
   },
   "file_extension": ".py",
   "mimetype": "text/x-python",
   "name": "python",
   "nbconvert_exporter": "python",
   "pygments_lexer": "ipython3",
   "version": "3.12.9"
  }
 },
 "nbformat": 4,
 "nbformat_minor": 5
}
