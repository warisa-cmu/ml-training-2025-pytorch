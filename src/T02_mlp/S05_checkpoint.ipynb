{
 "cells": [
  {
   "cell_type": "code",
   "execution_count": null,
   "id": "fed25417",
   "metadata": {},
   "outputs": [],
   "source": [
    "import torch\n",
    "\n",
    "class CheckpointManager:\n",
    "    def __init__(self, model, optimizer, checkpoint_path='checkpoint.pth'):\n",
    "        self.model = model\n",
    "        self.optimizer = optimizer\n",
    "        self.checkpoint_path = checkpoint_path\n",
    "\n",
    "    def save(self, epoch, val_loss):\n",
    "        \"\"\"Save model, optimizer state, current epoch, and validation loss.\"\"\"\n",
    "        checkpoint = {\n",
    "            'epoch': epoch,\n",
    "            'model_state_dict': self.model.state_dict(),\n",
    "            'optimizer_state_dict': self.optimizer.state_dict(),\n",
    "            'val_loss': val_loss,\n",
    "        }\n",
    "        torch.save(checkpoint, self.checkpoint_path)\n",
    "        print(f'Checkpoint saved at epoch {epoch} with val_loss {val_loss}')\n",
    "\n",
    "    def load(self):\n",
    "        \"\"\"Load checkpoint and restore model & optimizer states.\"\"\"\n",
    "        checkpoint = torch.load(self.checkpoint_path)\n",
    "        self.model.load_state_dict(checkpoint['model_state_dict'])\n",
    "        self.optimizer.load_state_dict(checkpoint['optimizer_state_dict'])\n",
    "        epoch = checkpoint['epoch']\n",
    "        val_loss = checkpoint['val_loss']\n",
    "        print(f'Checkpoint loaded. Resuming from epoch {epoch} with val_loss {val_loss}')\n",
    "        return epoch, val_loss"
   ]
  }
 ],
 "metadata": {
  "language_info": {
   "name": "python"
  }
 },
 "nbformat": 4,
 "nbformat_minor": 5
}
