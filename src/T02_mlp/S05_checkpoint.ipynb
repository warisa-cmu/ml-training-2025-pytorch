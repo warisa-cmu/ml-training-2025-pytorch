{
 "cells": [
  {
   "cell_type": "code",
   "execution_count": null,
   "id": "8ce16165",
   "metadata": {},
   "outputs": [],
   "source": [
    "import torch\n",
    "from datetime import datetime\n",
    "import os"
   ]
  },
  {
   "cell_type": "markdown",
   "id": "e4105c32",
   "metadata": {},
   "source": [
    "### Save and load models\n"
   ]
  },
  {
   "cell_type": "code",
   "execution_count": null,
   "id": "944460a5",
   "metadata": {},
   "outputs": [],
   "source": [
    "def print_state_dict(model, title=None):\n",
    "    if title:\n",
    "        print(f\"------------ {title} ------------\")\n",
    "    state_dict = model.state_dict()\n",
    "    for name, value in state_dict.items():\n",
    "        print(f\"{name}:\\n{value}\\n\")"
   ]
  },
  {
   "cell_type": "code",
   "execution_count": null,
   "id": "0431d5ab",
   "metadata": {},
   "outputs": [],
   "source": [
    "# Create a simple linear model: input size 3, output size 3\n",
    "model = torch.nn.Linear(3, 3)\n",
    "\n",
    "# Set up Adam optimizer for the model's parameters\n",
    "optimizer = torch.optim.Adam(model.parameters(), lr=0.01)\n",
    "\n",
    "print_state_dict(model, \"Model\")\n",
    "print_state_dict(optimizer, \"Optimizer\")"
   ]
  },
  {
   "cell_type": "code",
   "execution_count": null,
   "id": "af006a4e",
   "metadata": {},
   "outputs": [],
   "source": [
    "checkpoint = {\n",
    "    \"model_state_dict\": model.state_dict(),\n",
    "    \"optimizer_state_dict\": optimizer.state_dict(),\n",
    "}\n",
    "\n",
    "# Save the checkpoint dictionary to a file named 'cp_test.pth'\n",
    "torch.save(checkpoint, \"cp_test.pth\")"
   ]
  },
  {
   "cell_type": "code",
   "execution_count": null,
   "id": "366dc4e0",
   "metadata": {},
   "outputs": [],
   "source": [
    "# Initialize new model and optimizer\n",
    "model_new = torch.nn.Linear(3, 3)\n",
    "optimizer_new = torch.optim.Adam(model.parameters(), lr=1)\n",
    "print_state_dict(model_new, \"Model\")\n",
    "print_state_dict(optimizer_new, \"Optimizer\")\n"
   ]
  },
  {
   "cell_type": "code",
   "execution_count": null,
   "id": "7af61b67",
   "metadata": {},
   "outputs": [],
   "source": [
    "# Load the checkpoint (a dictionary containing model and optimizer state_dicts)\n",
    "checkpoint_loaded = torch.load(\"cp_test.pth\")\n",
    "\n",
    "# Restore the new model's parameters from the checkpoint\n",
    "model_new.load_state_dict(checkpoint_loaded[\"model_state_dict\"])\n",
    "\n",
    "# Restore the new optimizer's state from the checkpoint\n",
    "optimizer_new.load_state_dict(checkpoint_loaded[\"optimizer_state_dict\"])\n",
    "\n",
    "print_state_dict(model_new, \"Model\")\n",
    "print_state_dict(optimizer_new, \"Optimizer\")"
   ]
  },
  {
   "cell_type": "markdown",
   "id": "125a37b6",
   "metadata": {},
   "source": [
    "### Custom class\n"
   ]
  },
  {
   "cell_type": "code",
   "execution_count": null,
   "id": "fed25417",
   "metadata": {},
   "outputs": [],
   "source": [
    "class CheckpointHandler:\n",
    "    @staticmethod\n",
    "    def list_saved_files(root=\".\"):\n",
    "        for root, dirs, files in os.walk(root):\n",
    "            for file in files:\n",
    "                filepath = os.path.join(root, file)\n",
    "                filepath = filepath.replace('\\\\', '/')  # replace backslash with forward slash\n",
    "                if file.endswith(\"pth\") or file.endswith(\"pt\"):\n",
    "                    print(filepath)\n",
    "\n",
    "    @staticmethod\n",
    "    def make_dir(folder_path):\n",
    "        os.makedirs(folder_path, exist_ok=True)\n",
    "\n",
    "    @staticmethod\n",
    "    def get_dt():\n",
    "        return datetime.now().strftime(\"%Y-%m-%d_%H-%M\")\n",
    "\n",
    "    @staticmethod\n",
    "    def save(save_path, model, optimizer=None, epoch=None, val_loss=None):\n",
    "        checkpoint = {\n",
    "            \"epoch\": epoch,\n",
    "            \"model_state_dict\": model.state_dict(),\n",
    "            \"optimizer_state_dict\": optimizer.state_dict(),\n",
    "            \"val_loss\": val_loss,\n",
    "        }\n",
    "        torch.save(checkpoint, save_path)\n",
    "\n",
    "    @staticmethod\n",
    "    def load(save_path, model, optimizer=None):\n",
    "        checkpoint = torch.load(save_path)\n",
    "        model.load_state_dict(checkpoint[\"model_state_dict\"])\n",
    "        if optimizer is not None:\n",
    "            optimizer.load_state_dict(checkpoint[\"optimizer_state_dict\"])\n",
    "        epoch = checkpoint[\"epoch\"]\n",
    "        val_loss = checkpoint[\"val_loss\"]\n",
    "        return model, optimizer, epoch, val_loss"
   ]
  },
  {
   "cell_type": "code",
   "execution_count": null,
   "id": "c30d2d46",
   "metadata": {},
   "outputs": [],
   "source": [
    "model = torch.nn.Linear(3, 3)\n",
    "optimizer = torch.optim.Adam(model.parameters(), lr=0.01)\n",
    "print_state_dict(model, title=\"Model\")\n",
    "print_state_dict(optimizer, title=\"Optimizer\")\n",
    "#\n",
    "cph = CheckpointHandler()\n",
    "cph.make_dir(\"./checkpoints\")\n",
    "dt = cph.get_dt()\n",
    "#\n",
    "save_path = f\"./checkpoints/{dt}.pth\"\n",
    "cph.save(save_path=save_path, model=model, optimizer=optimizer)"
   ]
  },
  {
   "cell_type": "code",
   "execution_count": null,
   "id": "2421d987",
   "metadata": {},
   "outputs": [],
   "source": [
    "model = torch.nn.Linear(3, 3)\n",
    "optimizer = torch.optim.Adam(model.parameters(), lr=0.01)\n",
    "print_state_dict(model, title=\"Model\")\n",
    "print_state_dict(optimizer, title=\"Optimizer\")"
   ]
  },
  {
   "cell_type": "code",
   "execution_count": null,
   "id": "919c5322",
   "metadata": {},
   "outputs": [],
   "source": [
    "cph.list_saved_files()\n",
    "cph.load(save_path=save_path, model=model, optimizer=optimizer)\n",
    "\n",
    "print_state_dict(model, title=\"Model\")\n",
    "print_state_dict(optimizer, title=\"Optimizer\")"
   ]
  }
 ],
 "metadata": {
  "kernelspec": {
   "display_name": ".venv",
   "language": "python",
   "name": "python3"
  },
  "language_info": {
   "codemirror_mode": {
    "name": "ipython",
    "version": 3
   },
   "file_extension": ".py",
   "mimetype": "text/x-python",
   "name": "python",
   "nbconvert_exporter": "python",
   "pygments_lexer": "ipython3",
   "version": "3.12.10"
  }
 },
 "nbformat": 4,
 "nbformat_minor": 5
}
