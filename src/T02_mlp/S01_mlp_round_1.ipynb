{
 "cells": [
  {
   "cell_type": "code",
   "execution_count": 165,
   "id": "f848a708",
   "metadata": {},
   "outputs": [],
   "source": [
    "import pandas as pd\n",
    "import torch\n",
    "import torch.nn as nn\n",
    "from sklearn.model_selection import train_test_split\n",
    "from sklearn.preprocessing import StandardScaler\n",
    "import seaborn as sns"
   ]
  },
  {
   "cell_type": "code",
   "execution_count": 166,
   "id": "858e24d6",
   "metadata": {},
   "outputs": [
    {
     "name": "stdout",
     "output_type": "stream",
     "text": [
      "(100, 47)\n",
      "(100, 3)\n",
      "(70, 47)\n",
      "(30, 47)\n",
      "(70, 3)\n",
      "(30, 3)\n"
     ]
    }
   ],
   "source": [
    "df = pd.read_excel(\"data.xlsx\", index_col=\"exp\")\n",
    "_X = df.iloc[:, :-3].values\n",
    "_Y = df.iloc[:, -3:].values\n",
    "print(_X.shape)\n",
    "print(_Y.shape)\n",
    "\n",
    "\n",
    "_X_train, _X_test, _Y_train, _Y_test = train_test_split(\n",
    "    _X, _Y, test_size=0.3, random_state=0\n",
    ")\n",
    "print(_X_train.shape)\n",
    "print(_X_test.shape)\n",
    "print(_Y_train.shape)\n",
    "print(_Y_test.shape)\n",
    "\n",
    "\n",
    "scX = StandardScaler()\n",
    "X_train = scX.fit_transform(_X_train)\n",
    "X_test = scX.transform(_X_test)\n",
    "\n",
    "scY = StandardScaler()\n",
    "Y_train = scY.fit_transform(_Y_train)\n",
    "Y_test = scY.transform(_Y_test)"
   ]
  },
  {
   "cell_type": "code",
   "execution_count": 167,
   "id": "c7aa2192",
   "metadata": {},
   "outputs": [],
   "source": [
    "X_train_pt = torch.from_numpy(X_train).float()\n",
    "X_test_pt = torch.from_numpy(X_test).float()\n",
    "Y_train_pt = torch.from_numpy(Y_train).float()\n",
    "Y_test_pt = torch.from_numpy(Y_test).float()\n"
   ]
  },
  {
   "cell_type": "code",
   "execution_count": 168,
   "id": "c34165ca",
   "metadata": {},
   "outputs": [],
   "source": [
    "# Define the model\n",
    "num_features = _X.shape[1]\n",
    "num_outputs = _Y.shape[1]\n",
    "\n",
    "\n",
    "class MyModel(nn.Module):\n",
    "    def __init__(self, num_features, num_outputs):\n",
    "        super(MyModel, self).__init__()\n",
    "        self.fc1 = nn.Linear(num_features, 24)\n",
    "        self.fc2 = nn.Linear(24, 12)\n",
    "        self.fc3 = nn.Linear(12, 6)\n",
    "        self.fc4 = nn.Linear(6, num_outputs)\n",
    "        self.relu = nn.ReLU()\n",
    "\n",
    "    def forward(self, x):\n",
    "        x = self.relu(self.fc1(x))\n",
    "        x = self.relu(self.fc2(x))\n",
    "        x = self.relu(self.fc3(x))\n",
    "        x = self.fc4(x)\n",
    "        return x\n",
    "\n",
    "\n",
    "model = MyModel(num_features, num_outputs)"
   ]
  },
  {
   "cell_type": "code",
   "execution_count": null,
   "id": "2aa16e14",
   "metadata": {},
   "outputs": [
    {
     "data": {
      "text/plain": [
       "Text(0.5, 1.0, 'Final Loss = 0.026736903935670853')"
      ]
     },
     "execution_count": 169,
     "metadata": {},
     "output_type": "execute_result"
    },
    {
     "data": {
      "image/png": "[encoded data removed]",
      "text/plain": [
       "<Figure size 640x480 with 1 Axes>"
      ]
     },
     "metadata": {},
     "output_type": "display_data"
    }
   ],
   "source": [
    "n_epochs = 500  # number of epochs to run\n",
    "\n",
    "optimizer = torch.optim.Adam(model.parameters(), lr=0.01)  # Adam optimizer with learning rate 0.01\n",
    "loss_fn = nn.MSELoss()  # mean square error loss function, good for regression tasks\n",
    "\n",
    "loss_arr = []\n",
    "for epoch in range(n_epochs):\n",
    "    # Training Phase\n",
    "    model.train()                  # set model to training mode\n",
    "    optimizer.zero_grad()          # reset the gradients before backward pass\n",
    "    Y_pred = model(X_train_pt)     # forward pass - get predictions for training data\n",
    "    loss = loss_fn(Y_pred, Y_train_pt)  # compute MSE loss between predictions and labels\n",
    "\n",
    "    # Backward pass\n",
    "    loss.backward()                # compute gradients\n",
    "\n",
    "    # Update weights\n",
    "    optimizer.step()               # update the weights\n",
    "\n",
    "    epoch_train_loss = loss.item() # extract numerical loss value\n",
    "    loss_arr.append(epoch_train_loss)  # record loss for this epoch\n",
    "\n",
    "# Evaluation / Test phase (no grad needed)\n",
    "with torch.no_grad():\n",
    "    test_pred = model(X_test_pt)           # get predictions on test set\n",
    "    final_loss = loss_fn(test_pred, Y_test_pt)  # compute final test loss\n",
    "\n",
    "# Visualization\n",
    "ax = sns.lineplot(loss_arr)                # plot loss over epochs using seaborn\n",
    "ax.set_xlabel(\"Epoch\")\n",
    "ax.set_ylabel(\"MSE\")\n",
    "ax.set_title(f\"Final Loss = {final_loss}\")"
   ]
  },
  {
   "cell_type": "code",
   "execution_count": null,
   "id": "db7d927c",
   "metadata": {},
   "outputs": [],
   "source": []
  }
 ],
 "metadata": {
  "kernelspec": {
   "display_name": ".venv",
   "language": "python",
   "name": "python3"
  },
  "language_info": {
   "codemirror_mode": {
    "name": "ipython",
    "version": 3
   },
   "file_extension": ".py",
   "mimetype": "text/x-python",
   "name": "python",
   "nbconvert_exporter": "python",
   "pygments_lexer": "ipython3",
   "version": "3.12.10"
  }
 },
 "nbformat": 4,
 "nbformat_minor": 5
}
