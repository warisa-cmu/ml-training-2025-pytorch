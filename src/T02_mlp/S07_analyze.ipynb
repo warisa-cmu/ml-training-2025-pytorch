{
 "cells": [
  {
   "cell_type": "code",
   "execution_count": 6,
   "id": "2effcce3",
   "metadata": {},
   "outputs": [],
   "source": [
    "import pandas as pd\n",
    "import torch\n",
    "import torch.nn as nn\n",
    "from sklearn.preprocessing import StandardScaler\n",
    "from torch.utils.data import DataLoader\n",
    "from torch.utils.tensorboard import SummaryWriter\n",
    "from tqdm.notebook import tqdm\n",
    "\n",
    "from pt_runner.v1 import CheckpointHandler, DataHandlerPT, EarlyStopper"
   ]
  },
  {
   "cell_type": "code",
   "execution_count": 7,
   "id": "640b0e2b",
   "metadata": {},
   "outputs": [
    {
     "name": "stdout",
     "output_type": "stream",
     "text": [
      "(100, 47)\n",
      "(100, 3)\n"
     ]
    }
   ],
   "source": [
    "df = pd.read_excel(\"data.xlsx\", index_col=\"exp\")\n",
    "_X = df.iloc[:, :-3].values\n",
    "_Y = df.iloc[:, -3:].values\n",
    "print(_X.shape)\n",
    "print(_Y.shape)\n",
    "data_handler = DataHandlerPT(\n",
    "    _X=_X, _Y=_Y, scalerX=StandardScaler(), scalerY=StandardScaler()\n",
    ")"
   ]
  },
  {
   "cell_type": "code",
   "execution_count": null,
   "id": "5e9976b6",
   "metadata": {},
   "outputs": [],
   "source": [
    "# Define the model\n",
    "num_features = data_handler._X.shape[1]\n",
    "num_outputs = data_handler._Y.shape[1]\n",
    "\n",
    "\n",
    "class MyModel(nn.Module):\n",
    "    def __init__(self, num_features, num_outputs):\n",
    "        super(MyModel, self).__init__()\n",
    "        self.fc1 = nn.Linear(num_features, 24)\n",
    "        self.fc2 = nn.Linear(24, 12)\n",
    "        self.fc3 = nn.Linear(12, 6)\n",
    "        self.fc4 = nn.Linear(6, num_outputs)\n",
    "        self.relu = nn.ReLU()\n",
    "\n",
    "    def forward(self, x):\n",
    "        x = self.relu(self.fc1(x))\n",
    "        x = self.relu(self.fc2(x))\n",
    "        x = self.relu(self.fc3(x))\n",
    "        x = self.fc4(x)\n",
    "        return x\n",
    "\n",
    "\n",
    "model = MyModel(num_features, num_outputs)\n",
    "optimizer = torch.optim.Adam(model.parameters(), lr=0.001)\n",
    "scheduler = torch.optim.lr_scheduler.ReduceLROnPlateau(optimizer, \"min\", patience=5)\n",
    "loss_fn = nn.MSELoss()  # mean square error"
   ]
  },
  {
   "cell_type": "code",
   "execution_count": 9,
   "id": "09152660",
   "metadata": {},
   "outputs": [],
   "source": [
    "# Data\n",
    "data_handler.split_and_scale(test_size=0.2, val_size=0.1, random_state=0)\n",
    "ds_train = data_handler.get_train()\n",
    "ds_test = data_handler.get_test()\n",
    "ds_val = data_handler.get_val()\n"
   ]
  },
  {
   "cell_type": "code",
   "execution_count": 10,
   "id": "69d452e0",
   "metadata": {},
   "outputs": [
    {
     "name": "stdout",
     "output_type": "stream",
     "text": [
      "Load model @ epoch 1330 with loss 0.02943030558526516\n",
      "Test loss: 0.0228\n"
     ]
    }
   ],
   "source": [
    "cph = CheckpointHandler()\n",
    "\n",
    "model, optimizer, epoch, val_loss = cph.load(\n",
    "    save_path=\"./checkpoints/2025-05-25_08-58.pth\", model=model, optimizer=optimizer\n",
    ")\n",
    "print(f\"Load model @ epoch {epoch} with loss {val_loss}\")\n",
    "model.eval()\n",
    "with torch.no_grad():\n",
    "    X_test, Y_test = ds_test[:]\n",
    "    test_pred = model(X_test)\n",
    "    final_loss = loss_fn(test_pred, Y_test)\n",
    "    print(f\"Test loss: {final_loss:.4f}\")"
   ]
  }
 ],
 "metadata": {
  "kernelspec": {
   "display_name": ".venv",
   "language": "python",
   "name": "python3"
  },
  "language_info": {
   "codemirror_mode": {
    "name": "ipython",
    "version": 3
   },
   "file_extension": ".py",
   "mimetype": "text/x-python",
   "name": "python",
   "nbconvert_exporter": "python",
   "pygments_lexer": "ipython3",
   "version": "3.12.9"
  }
 },
 "nbformat": 4,
 "nbformat_minor": 5
}
