{
 "cells": [
  {
   "cell_type": "code",
   "execution_count": 12,
   "id": "9bd92350",
   "metadata": {},
   "outputs": [],
   "source": [
    "import pandas as pd\n",
    "import torch\n",
    "import torch.nn as nn\n",
    "from sklearn.model_selection import train_test_split\n",
    "from sklearn.preprocessing import StandardScaler\n",
    "import seaborn as sns"
   ]
  },
  {
   "cell_type": "code",
   "execution_count": 13,
   "id": "1178603c",
   "metadata": {},
   "outputs": [
    {
     "name": "stdout",
     "output_type": "stream",
     "text": [
      "(100, 47)\n",
      "(100, 3)\n"
     ]
    }
   ],
   "source": [
    "df = pd.read_excel(\"data.xlsx\", index_col=\"exp\")\n",
    "_X = df.iloc[:, :-3].values\n",
    "_Y = df.iloc[:, -3:].values\n",
    "print(_X.shape)\n",
    "print(_Y.shape)"
   ]
  },
  {
   "cell_type": "code",
   "execution_count": 14,
   "id": "ac40928c",
   "metadata": {},
   "outputs": [
    {
     "name": "stdout",
     "output_type": "stream",
     "text": [
      "(70, 47)\n",
      "(30, 47)\n",
      "(70, 3)\n",
      "(30, 3)\n"
     ]
    }
   ],
   "source": [
    "_X_train, _X_test, _Y_train, _Y_test = train_test_split(\n",
    "    _X, _Y, test_size=0.3, random_state=0\n",
    ")\n",
    "print(_X_train.shape)\n",
    "print(_X_test.shape)\n",
    "print(_Y_train.shape)\n",
    "print(_Y_test.shape)"
   ]
  },
  {
   "cell_type": "code",
   "execution_count": 15,
   "id": "104caf07",
   "metadata": {},
   "outputs": [],
   "source": [
    "scX = StandardScaler()\n",
    "X_train = scX.fit_transform(_X_train)\n",
    "X_test = scX.transform(_X_test)\n",
    "\n",
    "scY = StandardScaler()\n",
    "Y_train = scY.fit_transform(_Y_train)\n",
    "Y_test = scY.transform(_Y_test)"
   ]
  },
  {
   "cell_type": "code",
   "execution_count": 16,
   "id": "0f24fab3",
   "metadata": {},
   "outputs": [],
   "source": [
    "X_train_pt = torch.from_numpy(X_train).float()\n",
    "X_test_pt = torch.from_numpy(X_test).float()\n",
    "Y_train_pt = torch.from_numpy(Y_train).float()\n",
    "Y_test_pt = torch.from_numpy(Y_test).float()"
   ]
  },
  {
   "cell_type": "code",
   "execution_count": 17,
   "id": "6cbe7edc",
   "metadata": {},
   "outputs": [
    {
     "name": "stdout",
     "output_type": "stream",
     "text": [
      "<class 'numpy.ndarray'>\n",
      "<class 'torch.Tensor'>\n"
     ]
    }
   ],
   "source": [
    "print(type(X_train))\n",
    "print(type(X_train_pt))"
   ]
  },
  {
   "cell_type": "code",
   "execution_count": 18,
   "id": "4c787c8f",
   "metadata": {},
   "outputs": [],
   "source": [
    "num_features = _X.shape[1]\n",
    "num_outputs = _Y.shape[1]\n",
    "\n",
    "class MyModel(nn.Module):\n",
    "    def __init__(self, num_features, num_outputs):\n",
    "        super(MyModel, self).__init__()\n",
    "        self.fc1 = nn.Linear(num_features, 24)\n",
    "        self.fc2 = nn.Linear(24, 12)\n",
    "        self.fc3 = nn.Linear(12, 6)\n",
    "        self.fc4 = nn.Linear(6, num_outputs)\n",
    "        self.relu = nn.ReLU()\n",
    "\n",
    "    def forward(self, x):\n",
    "        x = self.relu(self.fc1(x))\n",
    "        x = self.relu(self.fc2(x))\n",
    "        x = self.relu(self.fc3(x))\n",
    "        x = self.fc4(x)\n",
    "        return x\n",
    "    \n",
    "model = MyModel(num_features=num_features, num_outputs=num_outputs)"
   ]
  },
  {
   "cell_type": "code",
   "execution_count": null,
   "id": "8461451e",
   "metadata": {},
   "outputs": [],
   "source": [
    "n_epochs = 100\n",
    "\n",
    "optimizer = torch.optim.Adam(model.parameters(), lr=0.01)\n",
    "loss_fn = nn.MSELoss()\n",
    "\n",
    "loss_arr = []\n",
    "for epoch in range(n_epochs):\n",
    "    model.train()\n",
    "    optimizer.zero_grad()\n",
    "    Y_pred = model(X_train_pt)\n",
    "    loss = loss_fn(Y_pred, Y_train_pt)\n",
    "    loss.backward()\n",
    "    optimizer.step()\n",
    "    \n",
    "    epoch_train_loss = loss.item()\n",
    "    loss_arr.append(epoch_train_loss)\n",
    "\n",
    "with torch.no_grad():\n",
    "    test_pred = model(X_test_pt)\n",
    "    final_loss = loss_fn(test_pred, Y_test_pt)\n",
    "\n",
    "# Visualization\n",
    "ax = sns.lineplot(loss_arr)  # plot loss over epochs using seaborn\n",
    "ax.set_xlabel(\"Epoch\")\n",
    "ax.set_ylabel(\"MSE\")\n",
    "ax.set_title(f\"Final Loss = {final_loss}\")"
   ]
  }
 ],
 "metadata": {
  "kernelspec": {
   "display_name": ".venv",
   "language": "python",
   "name": "python3"
  },
  "language_info": {
   "codemirror_mode": {
    "name": "ipython",
    "version": 3
   },
   "file_extension": ".py",
   "mimetype": "text/x-python",
   "name": "python",
   "nbconvert_exporter": "python",
   "pygments_lexer": "ipython3",
   "version": "3.12.10"
  }
 },
 "nbformat": 4,
 "nbformat_minor": 5
}
