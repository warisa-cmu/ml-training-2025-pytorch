{
 "cells": [
  {
   "cell_type": "code",
   "execution_count": 31,
   "id": "94ea11d5",
   "metadata": {},
   "outputs": [],
   "source": [
    "import numpy as np\n",
    "import pandas as pd\n",
    "import torch\n",
    "from sklearn.model_selection import train_test_split\n",
    "from sklearn.preprocessing import StandardScaler\n",
    "from torch.utils.data import DataLoader, Dataset"
   ]
  },
  {
   "cell_type": "code",
   "execution_count": 32,
   "id": "a7e776aa",
   "metadata": {},
   "outputs": [],
   "source": [
    "class MyCustomDataset(Dataset):\n",
    "    def __init__(self, data, labels):\n",
    "        self.data = data\n",
    "        self.labels = labels\n",
    "    \n",
    "    def __len__(self):\n",
    "        return len(self.data)\n",
    "    \n",
    "    def __getitem__(self, idx):\n",
    "        x = self.data[idx]\n",
    "        y = self.labels[idx]\n",
    "        return x, y        \n",
    "        "
   ]
  },
  {
   "cell_type": "code",
   "execution_count": 33,
   "id": "837c411f",
   "metadata": {},
   "outputs": [
    {
     "name": "stdout",
     "output_type": "stream",
     "text": [
      "tensor([[ 0.,  1.],\n",
      "        [ 1.,  2.],\n",
      "        [ 2.,  3.],\n",
      "        [ 3.,  4.],\n",
      "        [ 4.,  5.],\n",
      "        [ 5.,  6.],\n",
      "        [ 6.,  7.],\n",
      "        [ 7.,  8.],\n",
      "        [ 8.,  9.],\n",
      "        [ 9., 10.]])\n",
      "tensor([ 1.,  3.,  5.,  7.,  9., 11., 13., 15., 17., 19.])\n"
     ]
    }
   ],
   "source": [
    "# Features: 10 samples, each with 2 numbers\n",
    "features = torch.tensor([[i, i + 1] for i in range(10)], dtype=torch.float32)\n",
    "\n",
    "# Labels: 10 numbers (e.g., sum of the features for demonstration)\n",
    "labels = torch.tensor([i + (i + 1) for i in range(10)], dtype=torch.float32)\n",
    "\n",
    "print(features)\n",
    "print(labels)"
   ]
  },
  {
   "cell_type": "code",
   "execution_count": 34,
   "id": "37518c5d",
   "metadata": {},
   "outputs": [],
   "source": [
    "dataset = MyCustomDataset(data=features, labels=labels)"
   ]
  },
  {
   "cell_type": "code",
   "execution_count": 35,
   "id": "d3a2f1a4",
   "metadata": {},
   "outputs": [
    {
     "data": {
      "text/plain": [
       "10"
      ]
     },
     "execution_count": 35,
     "metadata": {},
     "output_type": "execute_result"
    }
   ],
   "source": [
    "len(dataset)"
   ]
  },
  {
   "cell_type": "code",
   "execution_count": 36,
   "id": "a668e9e4",
   "metadata": {},
   "outputs": [
    {
     "data": {
      "text/plain": [
       "(tensor([ 9., 10.]), tensor(19.))"
      ]
     },
     "execution_count": 36,
     "metadata": {},
     "output_type": "execute_result"
    }
   ],
   "source": [
    "dataset[-1]"
   ]
  },
  {
   "cell_type": "code",
   "execution_count": 39,
   "id": "d1256a7d",
   "metadata": {},
   "outputs": [],
   "source": [
    "dataloader = DataLoader(dataset, batch_size=4, shuffle=True)"
   ]
  },
  {
   "cell_type": "code",
   "execution_count": 65,
   "id": "20befc20",
   "metadata": {},
   "outputs": [
    {
     "name": "stdout",
     "output_type": "stream",
     "text": [
      "tensor([[ 9., 10.],\n",
      "        [ 6.,  7.],\n",
      "        [ 7.,  8.],\n",
      "        [ 5.,  6.]])\n",
      "tensor([19., 13., 15., 11.])\n",
      "tensor([[1., 2.],\n",
      "        [8., 9.],\n",
      "        [0., 1.],\n",
      "        [2., 3.]])\n",
      "tensor([ 3., 17.,  1.,  5.])\n",
      "tensor([[4., 5.],\n",
      "        [3., 4.]])\n",
      "tensor([9., 7.])\n"
     ]
    }
   ],
   "source": [
    "for x_batch, y_batch in dataloader:\n",
    "    print(x_batch)\n",
    "    print(y_batch)"
   ]
  },
  {
   "cell_type": "code",
   "execution_count": 66,
   "id": "2006af07",
   "metadata": {},
   "outputs": [],
   "source": [
    "class DatasetPT(Dataset):\n",
    "    def __init__(self, X, Y):\n",
    "        self.X = X\n",
    "        self.Y = Y\n",
    "\n",
    "    def __len__(self):\n",
    "        return self.Y.shape[0]\n",
    "\n",
    "    def __getitem__(self, idx):\n",
    "        X_out = torch.from_numpy(self.X[idx, :]).float()\n",
    "        Y_out = torch.from_numpy(self.Y[idx, :]).float()\n",
    "        return X_out, Y_out"
   ]
  },
  {
   "cell_type": "code",
   "execution_count": null,
   "id": "52c98fcf",
   "metadata": {},
   "outputs": [],
   "source": []
  }
 ],
 "metadata": {
  "kernelspec": {
   "display_name": ".venv",
   "language": "python",
   "name": "python3"
  },
  "language_info": {
   "codemirror_mode": {
    "name": "ipython",
    "version": 3
   },
   "file_extension": ".py",
   "mimetype": "text/x-python",
   "name": "python",
   "nbconvert_exporter": "python",
   "pygments_lexer": "ipython3",
   "version": "3.12.10"
  }
 },
 "nbformat": 4,
 "nbformat_minor": 5
}
