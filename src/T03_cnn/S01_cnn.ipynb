{
 "cells": [
  {
   "cell_type": "code",
   "execution_count": null,
   "id": "cd55ab57",
   "metadata": {},
   "outputs": [],
   "source": [
    "import torch\n",
    "import pickle\n",
    "\n",
    "import numpy as np\n",
    "import pandas as pd\n",
    "from sklearn.model_selection import train_test_split\n",
    "from sklearn.preprocessing import StandardScaler\n",
    "from torch.utils.data import DataLoader, Dataset"
   ]
  },
  {
   "cell_type": "code",
   "execution_count": 2,
   "id": "ac2a5651",
   "metadata": {},
   "outputs": [],
   "source": [
    "with open(\"mnist_small.pickle\", \"rb\") as file:\n",
    "    data = pickle.load(file)"
   ]
  },
  {
   "cell_type": "code",
   "execution_count": 10,
   "id": "e69a838d",
   "metadata": {},
   "outputs": [
    {
     "name": "stdout",
     "output_type": "stream",
     "text": [
      "(2000, 1, 28, 28)\n",
      "uint8\n",
      "(2000,)\n",
      "int64\n"
     ]
    }
   ],
   "source": [
    "_X = data[\"_X\"]\n",
    "_y = data[\"_y\"]\n",
    "print(_X.shape)\n",
    "print(_X.dtype)\n",
    "print(_y.shape)\n",
    "print(_y.dtype)"
   ]
  },
  {
   "cell_type": "code",
   "execution_count": null,
   "id": "3d30f006",
   "metadata": {},
   "outputs": [],
   "source": [
    "class DataHandlerPT(Dataset):\n",
    "    def __init__(self, _X, _Y):\n",
    "        self._X = _X\n",
    "        self._Y = _Y\n",
    "        self.X_train = None\n",
    "        self.X_test = None\n",
    "        self.X_val = None\n",
    "        self.Y_train = None\n",
    "        self.Y_val = None\n",
    "        self.Y_test = None\n",
    "\n",
    "    def split_and_scale(self, test_size, random_state, val_size=0):\n",
    "        _X_train, _X_test, _Y_train, _Y_test = train_test_split(\n",
    "            self._X, self._Y, test_size=test_size, random_state=random_state\n",
    "        )\n",
    "\n",
    "        self.scalerX.fit(_X_train)\n",
    "        self.scalerY.fit(_Y_train)\n",
    "\n",
    "        if val_size > 0:\n",
    "            _X_train, _X_val, _Y_train, _Y_val = train_test_split(\n",
    "                _X_train,\n",
    "                _Y_train,\n",
    "                # For example, if you want 80% train, 10% validation, and 10% test:\n",
    "                # First, split off the test set (10%):\n",
    "                # Next, split the remaining 90% into train and validation.\n",
    "                # Since you want 80% train and 10% validation overall, the validation set should be 10/90 = 0.111 of the remaining data.\n",
    "                test_size=val_size / (1 - test_size),\n",
    "                random_state=random_state + 100,  # Just make random_state different.\n",
    "            )\n",
    "            self.X_val = self.scalerX.transform(_X_val)\n",
    "            self.Y_val = self.scalerY.transform(_Y_val)\n",
    "\n",
    "        self.X_train = self.scalerX.transform(_X_train)\n",
    "        self.X_test = self.scalerX.transform(_X_test)\n",
    "\n",
    "        self.Y_train = self.scalerY.transform(_Y_train)\n",
    "        self.Y_test = self.scalerY.transform(_Y_test)\n",
    "\n",
    "    # This part is different from SKLearn version\n",
    "    def get_train(self):\n",
    "        return DatasetPT(X=self.X_train, Y=self.Y_train)\n",
    "\n",
    "    def get_val(self):\n",
    "        if self.X_val is None:\n",
    "            raise Exception(\"No validation data\")\n",
    "        return DatasetPT(X=self.X_val, Y=self.Y_val)\n",
    "\n",
    "    def get_test(self):\n",
    "        return DatasetPT(X=self.X_test, Y=self.Y_test)"
   ]
  }
 ],
 "metadata": {
  "kernelspec": {
   "display_name": ".venv",
   "language": "python",
   "name": "python3"
  },
  "language_info": {
   "codemirror_mode": {
    "name": "ipython",
    "version": 3
   },
   "file_extension": ".py",
   "mimetype": "text/x-python",
   "name": "python",
   "nbconvert_exporter": "python",
   "pygments_lexer": "ipython3",
   "version": "3.12.9"
  }
 },
 "nbformat": 4,
 "nbformat_minor": 5
}
