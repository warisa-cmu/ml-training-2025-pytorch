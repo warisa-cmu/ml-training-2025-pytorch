{
 "cells": [
  {
   "cell_type": "code",
   "execution_count": 5,
   "id": "b9c106e4",
   "metadata": {},
   "outputs": [],
   "source": [
    "from pprint import pp"
   ]
  },
  {
   "cell_type": "code",
   "execution_count": null,
   "id": "650ae94d",
   "metadata": {},
   "outputs": [],
   "source": [
    "import torch\n",
    "import torch.nn.functional as F\n",
    "from sklearn.metrics import classification_report\n",
    "\n",
    "\n",
    "def calc_metrices(logits: torch.Tensor, labels: torch.Tensor, isPrint=False):\n",
    "    # Apply softmax to logits to obtain prediction probabilities for each class\n",
    "    probs = F.softmax(logits, dim=1)  # Shape: (batch_size, num_classes)\n",
    "    \n",
    "    # Use argmax to get the predicted class index for each sample\n",
    "    preds = torch.argmax(probs, dim=1)  # Shape: (batch_size)\n",
    "\n",
    "    # Move prediction and label tensors to CPU and convert to numpy arrays for scikit-learn compatibility\n",
    "    preds_np = preds.cpu().numpy()\n",
    "    labels_np = labels.cpu().numpy()\n",
    "\n",
    "    # Generate the classification report as a dictionary (includes precision, recall, f1, etc.)\n",
    "    report = classification_report(labels_np, preds_np, output_dict=True)\n",
    "\n",
    "    # Optionally print a nicely formatted classification report if isPrint is True\n",
    "    if isPrint:\n",
    "        print(classification_report(labels_np, preds_np, digits=3))\n",
    "    \n",
    "    # Return the report dictionary and the numpy arrays of predictions and labels\n",
    "    return report, preds_np, labels_np"
   ]
  },
  {
   "cell_type": "code",
   "execution_count": 7,
   "id": "ed265ca7",
   "metadata": {},
   "outputs": [
    {
     "name": "stdout",
     "output_type": "stream",
     "text": [
      "tensor([[-0.4692, -0.5354, -1.4221, -0.1422, -1.5491],\n",
      "        [ 0.4453, -0.6284, -1.1358,  0.2920, -1.2557],\n",
      "        [-0.1153,  1.4818,  0.1581,  0.3396, -1.7814],\n",
      "        [ 0.3505,  0.6745, -1.8091,  0.1761, -1.0761],\n",
      "        [ 2.1314, -1.4216, -0.7579, -2.6036,  2.3144],\n",
      "        [ 0.0842, -1.0704,  1.1316,  0.5539, -1.0573],\n",
      "        [-0.5893, -0.4586, -0.9678, -1.2652,  0.4399],\n",
      "        [-0.1814, -0.1201,  0.3774,  0.1279,  0.8087],\n",
      "        [-1.3339, -0.9571, -0.4022,  0.8192,  0.4373],\n",
      "        [ 0.4089, -1.1744,  0.9860, -0.6976, -1.2418],\n",
      "        [ 0.2859,  0.1478, -0.2709,  0.5295, -0.4473],\n",
      "        [ 0.2885,  0.9255, -0.2950,  1.3227,  0.6840],\n",
      "        [-1.6529,  1.5128,  1.6853, -1.4253,  0.4244],\n",
      "        [-1.7742, -2.5711, -1.1138,  1.0183,  1.9309],\n",
      "        [ 0.3163,  0.5148, -0.8546,  0.5095, -0.5446],\n",
      "        [ 0.5782,  0.2357,  0.1318,  0.1978,  2.1851],\n",
      "        [ 0.0849, -0.8481, -1.4317,  0.5695,  0.2497],\n",
      "        [ 1.1670, -0.9315,  0.5960, -0.8650,  0.4402],\n",
      "        [-0.1573, -0.7672, -0.4026, -1.5999,  1.3892],\n",
      "        [-0.4992, -0.3286,  0.5926,  0.2364,  0.2630]])\n",
      "tensor([1, 0, 1, 3, 4, 3, 2, 1, 4, 3, 0, 4, 2, 2, 4, 1, 0, 3, 4, 4])\n"
     ]
    }
   ],
   "source": [
    "# Example usage:\n",
    "\n",
    "batch_size = 20\n",
    "num_classes = 5\n",
    "logits = torch.randn(batch_size, num_classes)  # Example random logits\n",
    "labels = torch.randint(0, num_classes, (batch_size,))  # Example random true labels\n",
    "pp(logits)\n",
    "pp(labels)"
   ]
  },
  {
   "cell_type": "code",
   "execution_count": 8,
   "id": "9820ea8a",
   "metadata": {},
   "outputs": [
    {
     "name": "stdout",
     "output_type": "stream",
     "text": [
      "              precision    recall  f1-score   support\n",
      "\n",
      "           0      0.500     0.333     0.400         3\n",
      "           1      0.333     0.250     0.286         4\n",
      "           2      0.250     0.333     0.286         3\n",
      "           3      0.000     0.000     0.000         4\n",
      "           4      0.333     0.333     0.333         6\n",
      "\n",
      "    accuracy                          0.250        20\n",
      "   macro avg      0.283     0.250     0.261        20\n",
      "weighted avg      0.279     0.250     0.260        20\n",
      "\n"
     ]
    }
   ],
   "source": [
    "report, pred, labels = calc_metrices(logits, labels, isPrint=True)\n"
   ]
  },
  {
   "cell_type": "code",
   "execution_count": 9,
   "id": "74094795",
   "metadata": {},
   "outputs": [
    {
     "name": "stdout",
     "output_type": "stream",
     "text": [
      "{'0': {'precision': 0.5,\n",
      "       'recall': 0.3333333333333333,\n",
      "       'f1-score': 0.4,\n",
      "       'support': 3.0},\n",
      " '1': {'precision': 0.3333333333333333,\n",
      "       'recall': 0.25,\n",
      "       'f1-score': 0.2857142857142857,\n",
      "       'support': 4.0},\n",
      " '2': {'precision': 0.25,\n",
      "       'recall': 0.3333333333333333,\n",
      "       'f1-score': 0.2857142857142857,\n",
      "       'support': 3.0},\n",
      " '3': {'precision': 0.0, 'recall': 0.0, 'f1-score': 0.0, 'support': 4.0},\n",
      " '4': {'precision': 0.3333333333333333,\n",
      "       'recall': 0.3333333333333333,\n",
      "       'f1-score': 0.3333333333333333,\n",
      "       'support': 6.0},\n",
      " 'accuracy': 0.25,\n",
      " 'macro avg': {'precision': 0.2833333333333333,\n",
      "               'recall': 0.24999999999999994,\n",
      "               'f1-score': 0.26095238095238094,\n",
      "               'support': 20.0},\n",
      " 'weighted avg': {'precision': 0.2791666666666667,\n",
      "                  'recall': 0.25,\n",
      "                  'f1-score': 0.26,\n",
      "                  'support': 20.0}}\n",
      "array([3, 0, 1, 1, 4, 2, 4, 4, 3, 2, 3, 3, 2, 4, 1, 4, 3, 0, 4, 2])\n",
      "array([1, 0, 1, 3, 4, 3, 2, 1, 4, 3, 0, 4, 2, 2, 4, 1, 0, 3, 4, 4])\n"
     ]
    }
   ],
   "source": [
    "pp(report)\n",
    "pp(pred)\n",
    "pp(labels)"
   ]
  }
 ],
 "metadata": {
  "kernelspec": {
   "display_name": ".venv",
   "language": "python",
   "name": "python3"
  },
  "language_info": {
   "codemirror_mode": {
    "name": "ipython",
    "version": 3
   },
   "file_extension": ".py",
   "mimetype": "text/x-python",
   "name": "python",
   "nbconvert_exporter": "python",
   "pygments_lexer": "ipython3",
   "version": "3.12.10"
  }
 },
 "nbformat": 4,
 "nbformat_minor": 5
}
